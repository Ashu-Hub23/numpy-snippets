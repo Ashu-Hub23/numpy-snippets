{
  "nbformat": 4,
  "nbformat_minor": 0,
  "metadata": {
    "colab": {
      "provenance": []
    },
    "kernelspec": {
      "name": "python3",
      "display_name": "Python 3"
    },
    "language_info": {
      "name": "python"
    }
  },
  "cells": [
    {
      "cell_type": "code",
      "execution_count": null,
      "metadata": {
        "colab": {
          "base_uri": "https://localhost:8080/"
        },
        "id": "ZBJIgukkMpkB",
        "outputId": "ac8f21b3-8cea-4c2b-efe0-f06b2500fbff"
      },
      "outputs": [
        {
          "output_type": "stream",
          "name": "stdout",
          "text": [
            "hello World!\n"
          ]
        }
      ],
      "source": [
        "print(\"hello World!\")"
      ]
    },
    {
      "cell_type": "code",
      "source": [
        " a=int(input(\"enter a number: \"))\n",
        " print(\"your name is \")\n",
        " if(a>10):\n",
        "    print(\"ASHUTOSH\")\n",
        " elif(a<5):\n",
        "    print(\"Asuprin\")\n",
        " else:\n",
        "    print(\"PRINCE\")"
      ],
      "metadata": {
        "colab": {
          "base_uri": "https://localhost:8080/"
        },
        "id": "onzHzNUyNbk4",
        "outputId": "c019b922-1182-42ae-da4c-28293c411ce7"
      },
      "execution_count": null,
      "outputs": [
        {
          "output_type": "stream",
          "name": "stdout",
          "text": [
            "enter a number: 23\n",
            "your name is \n",
            "ASHUTOSH\n"
          ]
        }
      ]
    },
    {
      "cell_type": "markdown",
      "source": [
        "# New Section"
      ],
      "metadata": {
        "id": "QqWddJmS459O"
      }
    },
    {
      "cell_type": "code",
      "source": [
        "print (2+4)"
      ],
      "metadata": {
        "id": "EIrCccCdRIbb",
        "colab": {
          "base_uri": "https://localhost:8080/"
        },
        "outputId": "80d10f86-974c-431a-adf2-605847574bfe"
      },
      "execution_count": null,
      "outputs": [
        {
          "output_type": "stream",
          "name": "stdout",
          "text": [
            "6\n"
          ]
        }
      ]
    },
    {
      "cell_type": "code",
      "source": [
        "print(\"i am Ashutosh Malviya\\nand i am the best among all \")"
      ],
      "metadata": {
        "id": "MEM-DsNVbWd-",
        "colab": {
          "base_uri": "https://localhost:8080/"
        },
        "outputId": "5921ccf7-3a9d-4adf-9aed-3664d4b4366e"
      },
      "execution_count": null,
      "outputs": [
        {
          "output_type": "stream",
          "name": "stdout",
          "text": [
            "i am Ashutosh Malviya\n",
            "and i am the best among all \n"
          ]
        }
      ]
    },
    {
      "cell_type": "code",
      "source": [
        "ash =\"S....\"\n",
        "print (\"actually ash is\",ash)"
      ],
      "metadata": {
        "id": "s9LCSJAZjNo2",
        "colab": {
          "base_uri": "https://localhost:8080/"
        },
        "outputId": "083bcaab-56d7-4a94-f61c-2a1ca54bf123"
      },
      "execution_count": null,
      "outputs": [
        {
          "output_type": "stream",
          "name": "stdout",
          "text": [
            "actually ash is S....\n"
          ]
        }
      ]
    },
    {
      "cell_type": "code",
      "source": [
        "ar= \"i am Ashutosh malviya\n",
        "and i am best among all\n",
        "\n",
        "[7]\n",
        "0s\n",
        "ash =\"S....\"\n",
        "print (\"actually ash is\",ash)\n",
        "actually ash is S....\"\n",
        "print(ar)"
      ],
      "metadata": {
        "id": "RyBbmc178-1a",
        "colab": {
          "base_uri": "https://localhost:8080/",
          "height": 110
        },
        "outputId": "1806efbd-5b85-4ff5-f202-9ccb69c22dc5"
      },
      "execution_count": null,
      "outputs": [
        {
          "output_type": "error",
          "ename": "SyntaxError",
          "evalue": "unterminated string literal (detected at line 1) (<ipython-input-10-a1410cee2f99>, line 1)",
          "traceback": [
            "\u001b[0;36m  File \u001b[0;32m\"<ipython-input-10-a1410cee2f99>\"\u001b[0;36m, line \u001b[0;32m1\u001b[0m\n\u001b[0;31m    ar= \"i am Ashutosh malviya\u001b[0m\n\u001b[0m        ^\u001b[0m\n\u001b[0;31mSyntaxError\u001b[0m\u001b[0;31m:\u001b[0m unterminated string literal (detected at line 1)\n"
          ]
        }
      ]
    },
    {
      "cell_type": "markdown",
      "source": [
        "solution\n"
      ],
      "metadata": {
        "id": "8TP7ytU19NJO"
      }
    },
    {
      "cell_type": "code",
      "source": [
        "ar= '''i am Ashutosh malviya\n",
        "and i am best among all\n",
        "\n",
        "[7]\n",
        "0s\n",
        "ash =\"S....\"\n",
        "print (\"actually ash is\",ash)\n",
        "actually ash is S....'''\n",
        "print(ar)"
      ],
      "metadata": {
        "id": "F8k85Ypl8rX2",
        "collapsed": true,
        "colab": {
          "base_uri": "https://localhost:8080/"
        },
        "outputId": "2c7cfb95-4b77-4108-f04c-149b5397f3aa"
      },
      "execution_count": null,
      "outputs": [
        {
          "output_type": "stream",
          "name": "stdout",
          "text": [
            "i am Ashutosh malviya\n",
            "and i am best among all\n",
            "\n",
            "[7]\n",
            "0s\n",
            "ash =\"S....\"\n",
            "print (\"actually ash is\",ash)\n",
            "actually ash is S....\n"
          ]
        }
      ]
    },
    {
      "cell_type": "code",
      "source": [
        "green=\"\"\"i am Ashutosh malviya\n",
        "and i am best among all\n",
        "\n",
        "[7]\n",
        "0s\n",
        "ash =\"S....\"\n",
        "print (\"actually ash is\",ash)\n",
        "actually ash is S....\"\"\"\n",
        "print(green[0])\n",
        "print(green[5])\n",
        "print(green[6])"
      ],
      "metadata": {
        "id": "xD6rhLbP_Rx6",
        "collapsed": true,
        "colab": {
          "base_uri": "https://localhost:8080/"
        },
        "outputId": "56c03a0b-40f8-49fb-ad97-92ad5d52f078"
      },
      "execution_count": null,
      "outputs": [
        {
          "output_type": "stream",
          "name": "stdout",
          "text": [
            "i\n",
            "A\n",
            "s\n"
          ]
        }
      ]
    },
    {
      "cell_type": "code",
      "source": [
        "print(\"pookie loves bolpani\")\n"
      ],
      "metadata": {
        "id": "yP2oEVZ8SwA6",
        "colab": {
          "base_uri": "https://localhost:8080/"
        },
        "outputId": "7a256fb4-f966-4312-d32e-03f969b73276"
      },
      "execution_count": null,
      "outputs": [
        {
          "output_type": "stream",
          "name": "stdout",
          "text": [
            "pookie loves bolpani\n"
          ]
        }
      ]
    },
    {
      "cell_type": "markdown",
      "source": [
        "lecture 16 match case\n",
        "\n"
      ],
      "metadata": {
        "id": "gI0t3dJ4-lH-"
      }
    },
    {
      "cell_type": "code",
      "source": [
        "x= int(input(\"enter a number:\"))\n",
        "match x:\n",
        "    case 1:\n",
        "      print(\"one\")\n",
        "    case 2:\n",
        "      print(\"two\")\n",
        "    case _ if x!=12:\n",
        "      print(\"not two\")\n",
        "    case _ if x!=10:\n",
        "      print(\"not ten\")\n",
        "    case 3:\n",
        "      print(\"three\")\n",
        "    case 4:\n",
        "      print(\"four\")\n",
        "\n"
      ],
      "metadata": {
        "id": "w1yNVfa8eNMp",
        "colab": {
          "base_uri": "https://localhost:8080/"
        },
        "outputId": "d4b6f068-bd08-4898-ccf0-a1c3558398ba"
      },
      "execution_count": null,
      "outputs": [
        {
          "output_type": "stream",
          "name": "stdout",
          "text": [
            "enter a number:2\n",
            "two\n"
          ]
        }
      ]
    },
    {
      "cell_type": "code",
      "source": [
        "green=\"\"\"i am Ashutosh Malviya\n",
        "and i am best among all\n",
        "\n",
        "[7]\n",
        "0s\n",
        "ash =\"S....\"\n",
        "print (\"actually ash is\",ash)\n",
        "actually ash is S....\"\"\"\n",
        "for character in green:\n",
        "  print (character)"
      ],
      "metadata": {
        "id": "68m5IDnH-QFy",
        "colab": {
          "base_uri": "https://localhost:8080/"
        },
        "outputId": "1e736f91-4157-491e-f484-0c74caf07dc0",
        "collapsed": true
      },
      "execution_count": null,
      "outputs": [
        {
          "output_type": "stream",
          "name": "stdout",
          "text": [
            "i\n",
            " \n",
            "a\n",
            "m\n",
            " \n",
            "A\n",
            "s\n",
            "h\n",
            "u\n",
            "t\n",
            "o\n",
            "s\n",
            "h\n",
            " \n",
            "M\n",
            "a\n",
            "l\n",
            "v\n",
            "i\n",
            "y\n",
            "a\n",
            "\n",
            "\n",
            "a\n",
            "n\n",
            "d\n",
            " \n",
            "i\n",
            " \n",
            "a\n",
            "m\n",
            " \n",
            "b\n",
            "e\n",
            "s\n",
            "t\n",
            " \n",
            "a\n",
            "m\n",
            "o\n",
            "n\n",
            "g\n",
            " \n",
            "a\n",
            "l\n",
            "l\n",
            "\n",
            "\n",
            "\n",
            "\n",
            "[\n",
            "7\n",
            "]\n",
            "\n",
            "\n",
            "0\n",
            "s\n",
            "\n",
            "\n",
            "a\n",
            "s\n",
            "h\n",
            " \n",
            "=\n",
            "\"\n",
            "S\n",
            ".\n",
            ".\n",
            ".\n",
            ".\n",
            "\"\n",
            "\n",
            "\n",
            "p\n",
            "r\n",
            "i\n",
            "n\n",
            "t\n",
            " \n",
            "(\n",
            "\"\n",
            "a\n",
            "c\n",
            "t\n",
            "u\n",
            "a\n",
            "l\n",
            "l\n",
            "y\n",
            " \n",
            "a\n",
            "s\n",
            "h\n",
            " \n",
            "i\n",
            "s\n",
            "\"\n",
            ",\n",
            "a\n",
            "s\n",
            "h\n",
            ")\n",
            "\n",
            "\n",
            "a\n",
            "c\n",
            "t\n",
            "u\n",
            "a\n",
            "l\n",
            "l\n",
            "y\n",
            " \n",
            "a\n",
            "s\n",
            "h\n",
            " \n",
            "i\n",
            "s\n",
            " \n",
            "S\n",
            ".\n",
            ".\n",
            ".\n",
            ".\n"
          ]
        }
      ]
    },
    {
      "cell_type": "markdown",
      "source": [
        "For loop\n"
      ],
      "metadata": {
        "id": "XKGWFRUUNZ_O"
      }
    },
    {
      "cell_type": "code",
      "source": [
        "A=\"ashutosh\"\n",
        "for character in A:\n",
        "  print(character)\n",
        "  if character==\"h\":\n",
        "     print (\"this is something special\")"
      ],
      "metadata": {
        "id": "0UqixRJv8tMk",
        "collapsed": true,
        "colab": {
          "base_uri": "https://localhost:8080/"
        },
        "outputId": "f29bed00-5a42-4e1b-e835-463e1fc895f3"
      },
      "execution_count": null,
      "outputs": [
        {
          "output_type": "stream",
          "name": "stdout",
          "text": [
            "a\n",
            "s\n",
            "h\n",
            "this is something special\n",
            "u\n",
            "t\n",
            "o\n",
            "s\n",
            "h\n",
            "this is something special\n"
          ]
        }
      ]
    },
    {
      "cell_type": "markdown",
      "source": [
        "range()"
      ],
      "metadata": {
        "id": "zvutcNt7oqn_"
      }
    },
    {
      "cell_type": "code",
      "source": [
        "for i in range(1,13):\n",
        "  print(i)\n"
      ],
      "metadata": {
        "id": "8_AD_Nl0op5f",
        "colab": {
          "base_uri": "https://localhost:8080/"
        },
        "outputId": "c634e86c-b4c3-4766-c68b-beaac4dec5d8",
        "collapsed": true
      },
      "execution_count": null,
      "outputs": [
        {
          "output_type": "stream",
          "name": "stdout",
          "text": [
            "1\n",
            "2\n",
            "3\n",
            "4\n",
            "5\n",
            "6\n",
            "7\n",
            "8\n",
            "9\n",
            "10\n",
            "11\n",
            "12\n"
          ]
        }
      ]
    },
    {
      "cell_type": "code",
      "source": [
        "for i in range(1,12,2):\n",
        "  print(i)\n"
      ],
      "metadata": {
        "collapsed": true,
        "id": "EZ3t8vzepp_Y"
      },
      "execution_count": null,
      "outputs": []
    },
    {
      "cell_type": "code",
      "source": [
        "#ashutosh is great\n"
      ],
      "metadata": {
        "id": "gBsE654Ljo2V"
      },
      "execution_count": null,
      "outputs": []
    },
    {
      "cell_type": "code",
      "source": [
        "a=1\n",
        "b =2\n",
        "c= \"Ashutosh\"\n",
        "print(type(a))\n",
        "print (a+b)\n",
        "print(type(c))"
      ],
      "metadata": {
        "id": "d78PB-yFmAe5",
        "collapsed": true
      },
      "execution_count": null,
      "outputs": []
    },
    {
      "cell_type": "code",
      "source": [
        "input(\"ashu\")"
      ],
      "metadata": {
        "id": "udfhndmIp65R",
        "collapsed": true,
        "colab": {
          "base_uri": "https://localhost:8080/",
          "height": 54
        },
        "outputId": "24066d54-0e76-49c9-f4d7-899a6c23f27d"
      },
      "execution_count": null,
      "outputs": [
        {
          "name": "stdout",
          "output_type": "stream",
          "text": [
            "ashu23\n"
          ]
        },
        {
          "output_type": "execute_result",
          "data": {
            "text/plain": [
              "'23'"
            ],
            "application/vnd.google.colaboratory.intrinsic+json": {
              "type": "string"
            }
          },
          "metadata": {},
          "execution_count": 1
        }
      ]
    },
    {
      "cell_type": "markdown",
      "source": [
        "while loop"
      ],
      "metadata": {
        "id": "oyYTuyVQL67m"
      }
    },
    {
      "cell_type": "code",
      "source": [
        "a = 20\n",
        "while (a>0):\n",
        "  print (a)\n",
        "  a=a-2\n"
      ],
      "metadata": {
        "collapsed": true,
        "id": "3QZS2V5gL30a"
      },
      "execution_count": null,
      "outputs": []
    },
    {
      "cell_type": "markdown",
      "source": [
        "while else"
      ],
      "metadata": {
        "id": "6kckZI25PLjR"
      }
    },
    {
      "cell_type": "code",
      "source": [
        "a = 20\n",
        "while (a>0):\n",
        "  print (a)\n",
        "  a=a-2\n",
        "else:\n",
        "  print(\"ashutosh\")\n",
        "\n"
      ],
      "metadata": {
        "id": "sZNlxpUSPMAR"
      },
      "execution_count": null,
      "outputs": []
    },
    {
      "cell_type": "markdown",
      "source": [
        "continue and break lec 19"
      ],
      "metadata": {
        "id": "8VBzy1wgP7yf"
      }
    },
    {
      "cell_type": "code",
      "source": [
        "for i in range(21):\n",
        "  if (i%2 == 0):\n",
        "   print (\"Ashu\")\n",
        "   continue\n",
        "\n",
        "  print(i)"
      ],
      "metadata": {
        "id": "uinnfwGZFpWw",
        "colab": {
          "base_uri": "https://localhost:8080/"
        },
        "outputId": "a7f6fa8d-8078-40be-aca7-fa12f3b979c9",
        "collapsed": true
      },
      "execution_count": null,
      "outputs": [
        {
          "output_type": "stream",
          "name": "stdout",
          "text": [
            "Ashu\n",
            "1\n",
            "Ashu\n",
            "3\n",
            "Ashu\n",
            "5\n",
            "Ashu\n",
            "7\n",
            "Ashu\n",
            "9\n",
            "Ashu\n",
            "11\n",
            "Ashu\n",
            "13\n",
            "Ashu\n",
            "15\n",
            "Ashu\n",
            "17\n",
            "Ashu\n",
            "19\n",
            "Ashu\n"
          ]
        }
      ]
    },
    {
      "cell_type": "code",
      "source": [
        "for i in range(20):\n",
        "  if (i%2 == 0):\n",
        "   print (\"Ashu\")\n",
        "   continue\n",
        "  else :\n",
        "   print (\"Hello\")\n",
        "   break\n",
        "  print(i)"
      ],
      "metadata": {
        "id": "e2FW-KI3USF9"
      },
      "execution_count": null,
      "outputs": []
    },
    {
      "cell_type": "markdown",
      "source": [
        "lec 20 **Function**"
      ],
      "metadata": {
        "id": "NUoAuwA-LwGo"
      }
    },
    {
      "cell_type": "code",
      "source": [
        "def sum(a ,b):\n",
        "  sumation = a+b\n",
        "  print(sumation)\n",
        "a = int(input(\"Ashu plz enter first no. to sum: \"))\n",
        "b = int(input(\"Ashu plz enter second no. to sum: \"))\n",
        "sum(a ,b)"
      ],
      "metadata": {
        "id": "drttJEldL2NN"
      },
      "execution_count": null,
      "outputs": []
    },
    {
      "cell_type": "markdown",
      "source": [],
      "metadata": {
        "id": "FdC3rIonNhAb"
      }
    },
    {
      "cell_type": "code",
      "source": [
        "def com(a, b):\n",
        "  if (a>b):\n",
        "    print(\"A is greater than b\")\n",
        "  elif(a==b):\n",
        "    print(\"A is equal to b\")\n",
        "  else:\n",
        "    print(\"A is lesser than b\")\n",
        "\n",
        "a= int(input(\"enter first number: \"))\n",
        "b= int(input(\"enter second number: \"))\n",
        "com(a,b)"
      ],
      "metadata": {
        "id": "3Yp46TpbqmBt",
        "colab": {
          "base_uri": "https://localhost:8080/"
        },
        "outputId": "72e48e81-cd7f-4a38-d628-ff16bd0ec221",
        "collapsed": true
      },
      "execution_count": null,
      "outputs": [
        {
          "output_type": "stream",
          "name": "stdout",
          "text": [
            "enter the value of a3\n",
            "enter the value of b1\n",
            "A is greater than b\n"
          ]
        }
      ]
    },
    {
      "cell_type": "markdown",
      "source": [
        "default argument\n",
        "in this we can give any default value to the funtion which will work automatically when you don't give values by yourself.  "
      ],
      "metadata": {
        "id": "O7Vy6r9_Nz7s"
      }
    },
    {
      "cell_type": "code",
      "source": [
        "def sum(a = 2 ,s = 4):\n",
        " print(\"summation\", a+s)\n",
        "\n",
        "sum()\n",
        "\n",
        "sum(1)\n",
        "\n",
        "sum(3)\n",
        "sum(s = 2)\n",
        "sum(4,6)"
      ],
      "metadata": {
        "colab": {
          "base_uri": "https://localhost:8080/"
        },
        "id": "KklYN4yIN7a_",
        "outputId": "fadb7577-cf0b-43a2-9959-dc98f38cb221",
        "collapsed": true
      },
      "execution_count": null,
      "outputs": [
        {
          "output_type": "stream",
          "name": "stdout",
          "text": [
            "summation 6\n",
            "summation 5\n",
            "summation 7\n",
            "summation 4\n",
            "summation 10\n"
          ]
        }
      ]
    },
    {
      "cell_type": "markdown",
      "source": [
        "List\n"
      ],
      "metadata": {
        "id": "qBs9dejkk4Ks"
      }
    },
    {
      "cell_type": "code",
      "source": [
        "i= [1,2,3, \"harry\",\"Ashu\",True ]\n",
        "print (i)\n",
        "print (type(i))\n",
        "print (i[0])\n",
        "print (i[1])\n",
        "print (i[2])\n",
        "print (i[3])\n",
        "print (i[4])\n",
        "print (i[5])\n",
        "\n",
        "print(\"negative indexing\")\n",
        "i= [1, 2, 3 , \"harry\",\"Ashu\",True,\"asd\",\"esdf\", \"afbf\" ]\n",
        "\n",
        "print (i[-1])\n",
        "print (i[-2])\n",
        "print (i[-3])\n",
        "print (i[-4])\n",
        "print (i[-5])\n",
        "print (i[-6])\n",
        "print (i[len(i)-3])\n",
        "\n",
        "if 2 in i :\n",
        "  print (\"2 is in i\")\n",
        "else:\n",
        "  print(\"2 is not in i\")\n",
        "#print(list[start:end:jump index])\n",
        "print (i[1:5])\n",
        "print (i[1:5:2])\n",
        "\n",
        "i= [1,2,3, \"harry\",\"Ashu\",True ]\n",
        "print (i)\n",
        "print (type(i))\n",
        "print (i[0])\n",
        "print (i[1])\n",
        "print (i[2])\n",
        "print (i[3])\n",
        "print (i[4])\n",
        "print (i[5])\n",
        "\n",
        "print(\"negative indexing\")\n",
        "i= [1, 2, 3 , \"harry\",\"Ashu\",True,\"asd\",\"esdf\", \"afbf\" ]\n",
        "\n",
        "print (i[-1])\n",
        "print (i[-2])\n",
        "print (i[-3])\n",
        "print (i[-4])\n",
        "print (i[-5])\n",
        "print (i[-6])\n",
        "print (i[len(i)-3])\n",
        "\n",
        "if 2 in i :\n",
        "  print (\"2 is in i\")\n",
        "else:\n",
        "  print(\"2 is not in i\")\n",
        "#print(list[start:end:jump index])\n",
        "print (i[1:5])\n",
        "print (i[1:5:2])\n",
        "\n",
        "#list comprehension\n",
        "\n",
        "lst=[i*i for i in range(11)]\n",
        "print(lst)\n",
        "lst=[i*i for i in range(11) if i%2==0]\n",
        "print(lst)\n",
        "\n",
        "\n",
        "\n"
      ],
      "metadata": {
        "colab": {
          "base_uri": "https://localhost:8080/"
        },
        "id": "CGr4CDZKk82E",
        "outputId": "0173aee3-830e-4e62-e64f-fee0c84eae65",
        "collapsed": true
      },
      "execution_count": null,
      "outputs": [
        {
          "output_type": "stream",
          "name": "stdout",
          "text": [
            "[1, 2, 3, 'harry', 'Ashu', True]\n",
            "<class 'list'>\n",
            "1\n",
            "2\n",
            "3\n",
            "harry\n",
            "Ashu\n",
            "True\n",
            "negative indexing\n",
            "afbf\n",
            "esdf\n",
            "asd\n",
            "True\n",
            "Ashu\n",
            "harry\n",
            "asd\n",
            "2 is in i\n",
            "[2, 3, 'harry', 'Ashu']\n",
            "[2, 'harry']\n",
            "[1, 2, 3, 'harry', 'Ashu', True]\n",
            "<class 'list'>\n",
            "1\n",
            "2\n",
            "3\n",
            "harry\n",
            "Ashu\n",
            "True\n",
            "negative indexing\n",
            "afbf\n",
            "esdf\n",
            "asd\n",
            "True\n",
            "Ashu\n",
            "harry\n",
            "asd\n",
            "2 is in i\n",
            "[2, 3, 'harry', 'Ashu']\n",
            "[2, 'harry']\n",
            "[0, 1, 4, 9, 16, 25, 36, 49, 64, 81, 100]\n",
            "[0, 4, 16, 36, 64, 100]\n"
          ]
        }
      ]
    },
    {
      "cell_type": "code",
      "source": [
        "i= [1,2,3, \"harry\",\"Ashu\",True ]\n",
        "print (i)\n",
        "print (type(i))\n",
        "print (i[0])\n",
        "print (i[1])\n",
        "print (i[2])\n",
        "print (i[3])\n",
        "print (i[4])\n",
        "print (i[5])\n",
        "\n",
        "print(\"negative indexing\")\n",
        "i= [1, 2, 3 , \"harry\",\"Ashu\",True,\"asd\",\"esdf\", \"afbf\" ]\n",
        "\n",
        "print (i[-1])\n",
        "print (i[-2])\n",
        "print (i[-3])\n",
        "print (i[-4])\n",
        "print (i[-5])\n",
        "print (i[-6])\n",
        "print (i[len(i)-3])\n",
        "\n",
        "if 2 in i :\n",
        "  print (\"2 is in i\")\n",
        "else:\n",
        "  print(\"2 is not in i\")\n",
        "#print(list[start:end:jump index])\n",
        "print (i[1:5])\n",
        "print (i[1:5:2])\n",
        "\n",
        "i= [1,2,3, \"harry\",\"Ashu\",True ]\n",
        "print (i)\n",
        "print (type(i))\n",
        "print (i[0])\n",
        "print (i[1])\n",
        "print (i[2])\n",
        "print (i[3])\n",
        "print (i[4])\n",
        "print (i[5])\n",
        "\n",
        "print(\"negative indexing\")\n",
        "i= [1, 2, 3 , \"harry\",\"Ashu\",True,\"asd\",\"esdf\", \"afbf\" ]\n",
        "\n",
        "print (i[-1])\n",
        "print (i[-2])\n",
        "print (i[-3])\n",
        "print (i[-4])\n",
        "print (i[-5])\n",
        "print (i[-6])\n",
        "print (i[len(i)-3])\n",
        "\n",
        "if 2 in i :\n",
        "  print (\"2 is in i\")\n",
        "else:\n",
        "  print(\"2 is not in i\")\n",
        "#print(list[start:end:jump index])\n",
        "print (i[1:5])\n",
        "print (i[1:5:2])\n",
        "\n",
        "#list comprehension\n",
        "\n",
        "lst=[i*i for i in range(11)]\n",
        "print(lst)\n",
        "lst=[i*i for i in range(11) if i%2==0]\n",
        "print(lst)\n",
        "\n",
        "\n",
        "\n"
      ],
      "metadata": {
        "colab": {
          "base_uri": "https://localhost:8080/"
        },
        "outputId": "0173aee3-830e-4e62-e64f-fee0c84eae65",
        "id": "viSmhkYUVwK0",
        "collapsed": true
      },
      "execution_count": null,
      "outputs": [
        {
          "output_type": "stream",
          "name": "stdout",
          "text": [
            "[1, 2, 3, 'harry', 'Ashu', True]\n",
            "<class 'list'>\n",
            "1\n",
            "2\n",
            "3\n",
            "harry\n",
            "Ashu\n",
            "True\n",
            "negative indexing\n",
            "afbf\n",
            "esdf\n",
            "asd\n",
            "True\n",
            "Ashu\n",
            "harry\n",
            "asd\n",
            "2 is in i\n",
            "[2, 3, 'harry', 'Ashu']\n",
            "[2, 'harry']\n",
            "[1, 2, 3, 'harry', 'Ashu', True]\n",
            "<class 'list'>\n",
            "1\n",
            "2\n",
            "3\n",
            "harry\n",
            "Ashu\n",
            "True\n",
            "negative indexing\n",
            "afbf\n",
            "esdf\n",
            "asd\n",
            "True\n",
            "Ashu\n",
            "harry\n",
            "asd\n",
            "2 is in i\n",
            "[2, 3, 'harry', 'Ashu']\n",
            "[2, 'harry']\n",
            "[0, 1, 4, 9, 16, 25, 36, 49, 64, 81, 100]\n",
            "[0, 4, 16, 36, 64, 100]\n"
          ]
        }
      ]
    },
    {
      "cell_type": "markdown",
      "source": [
        "**LIST** **METHOD**"
      ],
      "metadata": {
        "id": "aaXOb8DzNtyr"
      }
    },
    {
      "cell_type": "code",
      "source": [
        "#to add element at the end of list\n",
        "lis= [1, 8, 2, 9, 5, 6,]\n",
        "lis.append(7)\n",
        "print(lis)\n",
        "\n",
        "#to arrange list in assending order\n",
        "lis.sort()\n",
        "print(lis)\n",
        "lis.sort(reverse=True)\n",
        "print(lis)\n",
        "lis.sort(reverse=False)\n",
        "print(lis)\n",
        "\n",
        "#to  reverse our list order\n",
        "lis.reverse()\n",
        "print(lis)\n",
        "\n",
        "#to  INDEX our list order\n",
        "print(lis.index(1))\n",
        "\n",
        "#to  COUNT the no. of element in our list\n",
        "lis.count(2)\n",
        "\n",
        "#to EXTEND our list\n",
        "m = [234, 333, 999]\n",
        "lis.extend(m)\n",
        "print(lis)\n",
        "\n",
        "#we can do it without disturbing lis also\n",
        "k=lis+m\n",
        "print(k)\n",
        "print(lis)\n",
        "print(m)"
      ],
      "metadata": {
        "colab": {
          "base_uri": "https://localhost:8080/"
        },
        "id": "TQCDQOMJNtXe",
        "outputId": "c30c001b-7c19-4b5a-f3d0-3a4c729e9b6f",
        "collapsed": true
      },
      "execution_count": null,
      "outputs": [
        {
          "output_type": "stream",
          "name": "stdout",
          "text": [
            "[1, 8, 2, 9, 5, 6, 7]\n",
            "[1, 2, 5, 6, 7, 8, 9]\n",
            "[9, 8, 7, 6, 5, 2, 1]\n",
            "[1, 2, 5, 6, 7, 8, 9]\n",
            "[9, 8, 7, 6, 5, 2, 1]\n",
            "6\n",
            "[9, 8, 7, 6, 5, 2, 1, 234, 333, 999]\n",
            "[9, 8, 7, 6, 5, 2, 1, 234, 333, 999, 234, 333, 999]\n",
            "[9, 8, 7, 6, 5, 2, 1, 234, 333, 999]\n",
            "[234, 333, 999]\n"
          ]
        }
      ]
    },
    {
      "cell_type": "markdown",
      "source": [
        "Dictionary"
      ],
      "metadata": {
        "id": "Tu8QJvJ6td47"
      }
    },
    {
      "cell_type": "code",
      "source": [],
      "metadata": {
        "id": "yu6IhqzYtihv"
      },
      "execution_count": null,
      "outputs": []
    }
  ]
}