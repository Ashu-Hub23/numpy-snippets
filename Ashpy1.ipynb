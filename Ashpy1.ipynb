{
  "nbformat": 4,
  "nbformat_minor": 0,
  "metadata": {
    "colab": {
      "provenance": []
    },
    "kernelspec": {
      "name": "python3",
      "display_name": "Python 3"
    },
    "language_info": {
      "name": "python"
    }
  },
  "cells": [
    {
      "cell_type": "code",
      "execution_count": 5,
      "metadata": {
        "colab": {
          "base_uri": "https://localhost:8080/"
        },
        "id": "ZBJIgukkMpkB",
        "outputId": "ca18fe31-57de-4016-bf2f-e768da7c3161"
      },
      "outputs": [
        {
          "output_type": "stream",
          "name": "stdout",
          "text": [
            "hello World!\n"
          ]
        }
      ],
      "source": [
        "print(\"hello World!\")"
      ]
    },
    {
      "cell_type": "code",
      "source": [
        " a=int(input(\"enter a number: \"))\n",
        " print(\"your name is \")\n",
        " if(a>10):\n",
        "    print(\"ASHUTOSH\")\n",
        " elif(a<5):\n",
        "    print(\"Asuprin\")\n",
        " else:\n",
        "    print(\"PRINCE\")"
      ],
      "metadata": {
        "colab": {
          "base_uri": "https://localhost:8080/"
        },
        "id": "onzHzNUyNbk4",
        "outputId": "ca566a15-8c2f-4c19-df1f-66ce8df11e7a"
      },
      "execution_count": 6,
      "outputs": [
        {
          "output_type": "stream",
          "name": "stdout",
          "text": [
            "enter a number: 23\n",
            "your name is \n",
            "ASHUTOSH\n"
          ]
        }
      ]
    },
    {
      "cell_type": "markdown",
      "source": [
        "# New Section"
      ],
      "metadata": {
        "id": "QqWddJmS459O"
      }
    },
    {
      "cell_type": "code",
      "source": [
        "print (2+4)"
      ],
      "metadata": {
        "id": "EIrCccCdRIbb",
        "colab": {
          "base_uri": "https://localhost:8080/"
        },
        "outputId": "470090b2-e4d6-4b43-a42d-f3f947b5bc84"
      },
      "execution_count": 7,
      "outputs": [
        {
          "output_type": "stream",
          "name": "stdout",
          "text": [
            "6\n"
          ]
        }
      ]
    },
    {
      "cell_type": "code",
      "source": [
        "print(\"i am Ashutosh Malviya\\nand i am the best among all \")"
      ],
      "metadata": {
        "id": "MEM-DsNVbWd-",
        "colab": {
          "base_uri": "https://localhost:8080/"
        },
        "outputId": "91f46148-c5f1-46d0-9adb-f72eb9ee494b"
      },
      "execution_count": 8,
      "outputs": [
        {
          "output_type": "stream",
          "name": "stdout",
          "text": [
            "i am Ashutosh Malviya\n",
            "and i am the best among all \n"
          ]
        }
      ]
    },
    {
      "cell_type": "code",
      "source": [
        "ash =\"S....\"\n",
        "print (\"actually ash is\",ash)"
      ],
      "metadata": {
        "id": "s9LCSJAZjNo2",
        "colab": {
          "base_uri": "https://localhost:8080/"
        },
        "outputId": "e4f20ffb-59bc-429f-87d6-ed7ea2d112e4"
      },
      "execution_count": 9,
      "outputs": [
        {
          "output_type": "stream",
          "name": "stdout",
          "text": [
            "actually ash is S....\n"
          ]
        }
      ]
    },
    {
      "cell_type": "code",
      "source": [
        "ar= \"i am Ashutosh malviya\n",
        "and i am best among all\n",
        "\n",
        "[7]\n",
        "0s\n",
        "ash =\"S....\"\n",
        "print (\"actually ash is\",ash)\n",
        "actually ash is S....\"\n",
        "print(ar)"
      ],
      "metadata": {
        "id": "RyBbmc178-1a",
        "colab": {
          "base_uri": "https://localhost:8080/",
          "height": 110
        },
        "outputId": "773cd702-7e3d-4b14-f8a0-e45bdd44a22e"
      },
      "execution_count": 11,
      "outputs": [
        {
          "output_type": "error",
          "ename": "SyntaxError",
          "evalue": "unterminated string literal (detected at line 1) (<ipython-input-11-1087501780>, line 1)",
          "traceback": [
            "\u001b[0;36m  File \u001b[0;32m\"<ipython-input-11-1087501780>\"\u001b[0;36m, line \u001b[0;32m1\u001b[0m\n\u001b[0;31m    ar= \"i am Ashutosh malviya\u001b[0m\n\u001b[0m        ^\u001b[0m\n\u001b[0;31mSyntaxError\u001b[0m\u001b[0;31m:\u001b[0m unterminated string literal (detected at line 1)\n"
          ]
        }
      ]
    },
    {
      "cell_type": "markdown",
      "source": [
        "solution\n"
      ],
      "metadata": {
        "id": "8TP7ytU19NJO"
      }
    },
    {
      "cell_type": "code",
      "source": [
        "ar= '''i am Ashutosh malviya\n",
        "and i am best among all\n",
        "\n",
        "[7]\n",
        "0s\n",
        "ash =\"S....\"\n",
        "print (\"actually ash is\",ash)\n",
        "actually ash is S....'''\n",
        "print(ar)"
      ],
      "metadata": {
        "id": "F8k85Ypl8rX2",
        "collapsed": true,
        "colab": {
          "base_uri": "https://localhost:8080/"
        },
        "outputId": "84221203-8923-4ddd-f9b2-5bd955a11058"
      },
      "execution_count": 12,
      "outputs": [
        {
          "output_type": "stream",
          "name": "stdout",
          "text": [
            "i am Ashutosh malviya\n",
            "and i am best among all\n",
            "\n",
            "[7]\n",
            "0s\n",
            "ash =\"S....\"\n",
            "print (\"actually ash is\",ash)\n",
            "actually ash is S....\n"
          ]
        }
      ]
    },
    {
      "cell_type": "code",
      "source": [
        "green=\"\"\"i am Ashutosh malviya\n",
        "and i am best among all\n",
        "\n",
        "[7]\n",
        "0s\n",
        "ash =\"S....\"\n",
        "print (\"actually ash is\",ash)\n",
        "actually ash is S....\"\"\"\n",
        "print(green[0])\n",
        "print(green[5])\n",
        "print(green[6])"
      ],
      "metadata": {
        "id": "xD6rhLbP_Rx6",
        "collapsed": true,
        "colab": {
          "base_uri": "https://localhost:8080/"
        },
        "outputId": "f9b3ae1e-97ee-40f3-90d1-091d05d3b8ef"
      },
      "execution_count": 13,
      "outputs": [
        {
          "output_type": "stream",
          "name": "stdout",
          "text": [
            "i\n",
            "A\n",
            "s\n"
          ]
        }
      ]
    },
    {
      "cell_type": "markdown",
      "source": [
        "lecture 16 match case\n",
        "\n"
      ],
      "metadata": {
        "id": "gI0t3dJ4-lH-"
      }
    },
    {
      "cell_type": "code",
      "source": [
        "x= int(input(\"enter a number:\"))\n",
        "match x:\n",
        "    case 1:\n",
        "      print(\"one\")\n",
        "    case 2:\n",
        "      print(\"two\")\n",
        "    case _ if x!=12:\n",
        "      print(\"not two\")\n",
        "    case _ if x!=10:\n",
        "      print(\"not ten\")\n",
        "    case 3:\n",
        "      print(\"three\")\n",
        "    case 4:\n",
        "      print(\"four\")\n",
        "\n"
      ],
      "metadata": {
        "id": "w1yNVfa8eNMp",
        "colab": {
          "base_uri": "https://localhost:8080/"
        },
        "outputId": "8ee93238-acd9-4e33-8d64-bf7f695cf385"
      },
      "execution_count": 14,
      "outputs": [
        {
          "output_type": "stream",
          "name": "stdout",
          "text": [
            "enter a number:3\n",
            "not two\n"
          ]
        }
      ]
    },
    {
      "cell_type": "code",
      "source": [
        "green=\"\"\"i am Ashutosh Malviya\n",
        "and i am best among all\n",
        "\n",
        "[7]\n",
        "0s\n",
        "ash =\"S....\"\n",
        "print (\"actually ash is\",ash)\n",
        "actually ash is S....\"\"\"\n",
        "for character in green:\n",
        "  print (character)"
      ],
      "metadata": {
        "id": "68m5IDnH-QFy",
        "colab": {
          "base_uri": "https://localhost:8080/"
        },
        "outputId": "b1d2a267-a4ae-4352-83d5-9def5b5e8349"
      },
      "execution_count": 15,
      "outputs": [
        {
          "output_type": "stream",
          "name": "stdout",
          "text": [
            "i\n",
            " \n",
            "a\n",
            "m\n",
            " \n",
            "A\n",
            "s\n",
            "h\n",
            "u\n",
            "t\n",
            "o\n",
            "s\n",
            "h\n",
            " \n",
            "M\n",
            "a\n",
            "l\n",
            "v\n",
            "i\n",
            "y\n",
            "a\n",
            "\n",
            "\n",
            "a\n",
            "n\n",
            "d\n",
            " \n",
            "i\n",
            " \n",
            "a\n",
            "m\n",
            " \n",
            "b\n",
            "e\n",
            "s\n",
            "t\n",
            " \n",
            "a\n",
            "m\n",
            "o\n",
            "n\n",
            "g\n",
            " \n",
            "a\n",
            "l\n",
            "l\n",
            "\n",
            "\n",
            "\n",
            "\n",
            "[\n",
            "7\n",
            "]\n",
            "\n",
            "\n",
            "0\n",
            "s\n",
            "\n",
            "\n",
            "a\n",
            "s\n",
            "h\n",
            " \n",
            "=\n",
            "\"\n",
            "S\n",
            ".\n",
            ".\n",
            ".\n",
            ".\n",
            "\"\n",
            "\n",
            "\n",
            "p\n",
            "r\n",
            "i\n",
            "n\n",
            "t\n",
            " \n",
            "(\n",
            "\"\n",
            "a\n",
            "c\n",
            "t\n",
            "u\n",
            "a\n",
            "l\n",
            "l\n",
            "y\n",
            " \n",
            "a\n",
            "s\n",
            "h\n",
            " \n",
            "i\n",
            "s\n",
            "\"\n",
            ",\n",
            "a\n",
            "s\n",
            "h\n",
            ")\n",
            "\n",
            "\n",
            "a\n",
            "c\n",
            "t\n",
            "u\n",
            "a\n",
            "l\n",
            "l\n",
            "y\n",
            " \n",
            "a\n",
            "s\n",
            "h\n",
            " \n",
            "i\n",
            "s\n",
            " \n",
            "S\n",
            ".\n",
            ".\n",
            ".\n",
            ".\n"
          ]
        }
      ]
    },
    {
      "cell_type": "markdown",
      "source": [
        "For loop\n"
      ],
      "metadata": {
        "id": "XKGWFRUUNZ_O"
      }
    },
    {
      "cell_type": "code",
      "source": [
        "A=\"ashutosh\"\n",
        "for character in A:\n",
        "  print(character)\n",
        "  if character==\"h\":\n",
        "     print (\"this is something special\")"
      ],
      "metadata": {
        "id": "0UqixRJv8tMk",
        "collapsed": true,
        "colab": {
          "base_uri": "https://localhost:8080/"
        },
        "outputId": "71d9eb63-4809-42a1-f9a5-3c0cfd3ce941"
      },
      "execution_count": 16,
      "outputs": [
        {
          "output_type": "stream",
          "name": "stdout",
          "text": [
            "a\n",
            "s\n",
            "h\n",
            "this is something special\n",
            "u\n",
            "t\n",
            "o\n",
            "s\n",
            "h\n",
            "this is something special\n"
          ]
        }
      ]
    },
    {
      "cell_type": "markdown",
      "source": [
        "range()"
      ],
      "metadata": {
        "id": "zvutcNt7oqn_"
      }
    },
    {
      "cell_type": "code",
      "source": [
        "for i in range(1,13):\n",
        "  print(i)\n"
      ],
      "metadata": {
        "id": "8_AD_Nl0op5f",
        "colab": {
          "base_uri": "https://localhost:8080/"
        },
        "outputId": "cf97d30f-afb6-4a5d-d30d-88754c4d59d5",
        "collapsed": true
      },
      "execution_count": 17,
      "outputs": [
        {
          "output_type": "stream",
          "name": "stdout",
          "text": [
            "1\n",
            "2\n",
            "3\n",
            "4\n",
            "5\n",
            "6\n",
            "7\n",
            "8\n",
            "9\n",
            "10\n",
            "11\n",
            "12\n"
          ]
        }
      ]
    },
    {
      "cell_type": "code",
      "source": [
        "for i in range(1,12,2):\n",
        "  print(i)\n"
      ],
      "metadata": {
        "collapsed": true,
        "id": "EZ3t8vzepp_Y",
        "colab": {
          "base_uri": "https://localhost:8080/"
        },
        "outputId": "986fc1db-46fb-4929-f108-e068974749ff"
      },
      "execution_count": 18,
      "outputs": [
        {
          "output_type": "stream",
          "name": "stdout",
          "text": [
            "1\n",
            "3\n",
            "5\n",
            "7\n",
            "9\n",
            "11\n"
          ]
        }
      ]
    },
    {
      "cell_type": "code",
      "source": [
        "#ashutosh is great\n"
      ],
      "metadata": {
        "id": "gBsE654Ljo2V"
      },
      "execution_count": 19,
      "outputs": []
    },
    {
      "cell_type": "code",
      "source": [
        "a=1\n",
        "b =2\n",
        "c= \"Ashutosh\"\n",
        "print(type(a))\n",
        "print (a+b)\n",
        "print(type(c))"
      ],
      "metadata": {
        "id": "d78PB-yFmAe5",
        "collapsed": true,
        "colab": {
          "base_uri": "https://localhost:8080/"
        },
        "outputId": "d597598d-0cf3-4dce-fb78-8d1214397417"
      },
      "execution_count": 20,
      "outputs": [
        {
          "output_type": "stream",
          "name": "stdout",
          "text": [
            "<class 'int'>\n",
            "3\n",
            "<class 'str'>\n"
          ]
        }
      ]
    },
    {
      "cell_type": "code",
      "source": [
        "input(\"ashu\")"
      ],
      "metadata": {
        "id": "udfhndmIp65R",
        "collapsed": true,
        "colab": {
          "base_uri": "https://localhost:8080/",
          "height": 54
        },
        "outputId": "87d5dcd9-70c0-4df5-998d-9322644b9ab0"
      },
      "execution_count": 21,
      "outputs": [
        {
          "name": "stdout",
          "output_type": "stream",
          "text": [
            "ashuashutosh\n"
          ]
        },
        {
          "output_type": "execute_result",
          "data": {
            "text/plain": [
              "'ashutosh'"
            ],
            "application/vnd.google.colaboratory.intrinsic+json": {
              "type": "string"
            }
          },
          "metadata": {},
          "execution_count": 21
        }
      ]
    },
    {
      "cell_type": "markdown",
      "source": [
        "while loop"
      ],
      "metadata": {
        "id": "oyYTuyVQL67m"
      }
    },
    {
      "cell_type": "code",
      "source": [
        "a = 20\n",
        "while (a>0):\n",
        "  print (a)\n",
        "  a=a-2\n"
      ],
      "metadata": {
        "collapsed": true,
        "id": "3QZS2V5gL30a",
        "colab": {
          "base_uri": "https://localhost:8080/"
        },
        "outputId": "4abf026a-b6fc-4c5b-f734-f6534d2c8a03"
      },
      "execution_count": 22,
      "outputs": [
        {
          "output_type": "stream",
          "name": "stdout",
          "text": [
            "20\n",
            "18\n",
            "16\n",
            "14\n",
            "12\n",
            "10\n",
            "8\n",
            "6\n",
            "4\n",
            "2\n"
          ]
        }
      ]
    },
    {
      "cell_type": "markdown",
      "source": [
        "while else"
      ],
      "metadata": {
        "id": "6kckZI25PLjR"
      }
    },
    {
      "cell_type": "code",
      "source": [
        "a = 20\n",
        "while (a>0):\n",
        "  print (a)\n",
        "  a=a-2\n",
        "else:\n",
        "  print(\"ashutosh\")\n",
        "\n"
      ],
      "metadata": {
        "id": "sZNlxpUSPMAR",
        "colab": {
          "base_uri": "https://localhost:8080/"
        },
        "outputId": "ed9a2487-d3aa-4afe-9a05-eb8bbf19a922"
      },
      "execution_count": 23,
      "outputs": [
        {
          "output_type": "stream",
          "name": "stdout",
          "text": [
            "20\n",
            "18\n",
            "16\n",
            "14\n",
            "12\n",
            "10\n",
            "8\n",
            "6\n",
            "4\n",
            "2\n",
            "ashutosh\n"
          ]
        }
      ]
    },
    {
      "cell_type": "markdown",
      "source": [
        "continue and break lec 19"
      ],
      "metadata": {
        "id": "8VBzy1wgP7yf"
      }
    },
    {
      "cell_type": "code",
      "source": [
        "for i in range(21):\n",
        "  if (i%2 == 0):\n",
        "   print (\"Ashu\")\n",
        "   continue\n",
        "\n",
        "  print(i)"
      ],
      "metadata": {
        "id": "uinnfwGZFpWw",
        "colab": {
          "base_uri": "https://localhost:8080/"
        },
        "outputId": "92687c41-f208-4dfd-8541-010e59c24adf",
        "collapsed": true
      },
      "execution_count": 24,
      "outputs": [
        {
          "output_type": "stream",
          "name": "stdout",
          "text": [
            "Ashu\n",
            "1\n",
            "Ashu\n",
            "3\n",
            "Ashu\n",
            "5\n",
            "Ashu\n",
            "7\n",
            "Ashu\n",
            "9\n",
            "Ashu\n",
            "11\n",
            "Ashu\n",
            "13\n",
            "Ashu\n",
            "15\n",
            "Ashu\n",
            "17\n",
            "Ashu\n",
            "19\n",
            "Ashu\n"
          ]
        }
      ]
    },
    {
      "cell_type": "code",
      "source": [
        "for i in range(20):\n",
        "  if (i%2 == 0):\n",
        "   print (\"Ashu\")\n",
        "   continue\n",
        "  else :\n",
        "   print (\"Hello\")\n",
        "   break\n",
        "  print(i)"
      ],
      "metadata": {
        "id": "e2FW-KI3USF9",
        "colab": {
          "base_uri": "https://localhost:8080/"
        },
        "outputId": "e4f5fb29-dbd3-4646-dd71-9c30875d76d3"
      },
      "execution_count": 25,
      "outputs": [
        {
          "output_type": "stream",
          "name": "stdout",
          "text": [
            "Ashu\n",
            "Hello\n"
          ]
        }
      ]
    },
    {
      "cell_type": "markdown",
      "source": [
        "lec 20 **Function**"
      ],
      "metadata": {
        "id": "NUoAuwA-LwGo"
      }
    },
    {
      "cell_type": "code",
      "source": [
        "def sum(a ,b):\n",
        "  sumation = a+b\n",
        "  print(sumation)\n",
        "a = int(input(\"Ashu plz enter first no. to sum: \"))\n",
        "b = int(input(\"Ashu plz enter second no. to sum: \"))\n",
        "sum(a ,b)"
      ],
      "metadata": {
        "id": "drttJEldL2NN",
        "colab": {
          "base_uri": "https://localhost:8080/"
        },
        "outputId": "377a2393-5160-441c-8d52-31dfe9475ef5"
      },
      "execution_count": 26,
      "outputs": [
        {
          "output_type": "stream",
          "name": "stdout",
          "text": [
            "Ashu plz enter first no. to sum: 30\n",
            "Ashu plz enter second no. to sum: 32\n",
            "62\n"
          ]
        }
      ]
    },
    {
      "cell_type": "markdown",
      "source": [],
      "metadata": {
        "id": "FdC3rIonNhAb"
      }
    },
    {
      "cell_type": "code",
      "source": [
        "def com(a, b):\n",
        "  if (a>b):\n",
        "    print(\"A is greater than b\")\n",
        "  elif(a==b):\n",
        "    print(\"A is equal to b\")\n",
        "  else:\n",
        "    print(\"A is lesser than b\")\n",
        "\n",
        "a= int(input(\"enter first number: \"))\n",
        "b= int(input(\"enter second number: \"))\n",
        "com(a,b)"
      ],
      "metadata": {
        "id": "3Yp46TpbqmBt",
        "colab": {
          "base_uri": "https://localhost:8080/"
        },
        "outputId": "a2dc33d5-dc04-4a86-c81c-313533eb6a26",
        "collapsed": true
      },
      "execution_count": 27,
      "outputs": [
        {
          "output_type": "stream",
          "name": "stdout",
          "text": [
            "enter first number: 26\n",
            "enter second number: 64\n",
            "A is lesser than b\n"
          ]
        }
      ]
    },
    {
      "cell_type": "markdown",
      "source": [
        "default argument\n",
        "in this we can give any default value to the funtion which will work automatically when you don't give values by yourself.  "
      ],
      "metadata": {
        "id": "O7Vy6r9_Nz7s"
      }
    },
    {
      "cell_type": "code",
      "source": [
        "def sum(a = 2 ,s = 4):\n",
        " print(\"summation\", a+s)\n",
        "\n",
        "sum()\n",
        "\n",
        "sum(1)\n",
        "\n",
        "sum(3)\n",
        "sum(s = 2)\n",
        "sum(4,6)"
      ],
      "metadata": {
        "colab": {
          "base_uri": "https://localhost:8080/"
        },
        "id": "KklYN4yIN7a_",
        "outputId": "fe19a5ca-9e53-4907-b0fc-a26cb35bc155",
        "collapsed": true
      },
      "execution_count": 28,
      "outputs": [
        {
          "output_type": "stream",
          "name": "stdout",
          "text": [
            "summation 6\n",
            "summation 5\n",
            "summation 7\n",
            "summation 4\n",
            "summation 10\n"
          ]
        }
      ]
    },
    {
      "cell_type": "markdown",
      "source": [
        "List\n"
      ],
      "metadata": {
        "id": "qBs9dejkk4Ks"
      }
    },
    {
      "cell_type": "code",
      "source": [
        "i= [1,2,3, \"harry\",\"Ashu\",True ]\n",
        "print (i)\n",
        "print (type(i))\n",
        "print (i[0])\n",
        "print (i[1])\n",
        "print (i[2])\n",
        "print (i[3])\n",
        "print (i[4])\n",
        "print (i[5])\n",
        "\n",
        "print(\"negative indexing\")\n",
        "i= [1, 2, 3 , \"harry\",\"Ashu\",True,\"asd\",\"esdf\", \"afbf\" ]\n",
        "\n",
        "print (i[-1])\n",
        "print (i[-2])\n",
        "print (i[-3])\n",
        "print (i[-4])\n",
        "print (i[-5])\n",
        "print (i[-6])\n",
        "print (i[len(i)-3])\n",
        "\n",
        "if 2 in i :\n",
        "  print (\"2 is in i\")\n",
        "else:\n",
        "  print(\"2 is not in i\")\n",
        "#print(list[start:end:jump index])\n",
        "print (i[1:5])\n",
        "print (i[1:5:2])\n",
        "\n",
        "i= [1,2,3, \"harry\",\"Ashu\",True ]\n",
        "print (i)\n",
        "print (type(i))\n",
        "print (i[0])\n",
        "print (i[1])\n",
        "print (i[2])\n",
        "print (i[3])\n",
        "print (i[4])\n",
        "print (i[5])\n",
        "\n",
        "print(\"negative indexing\")\n",
        "i= [1, 2, 3 , \"harry\",\"Ashu\",True,\"asd\",\"esdf\", \"afbf\" ]\n",
        "\n",
        "print (i[-1])\n",
        "print (i[-2])\n",
        "print (i[-3])\n",
        "print (i[-4])\n",
        "print (i[-5])\n",
        "print (i[-6])\n",
        "print (i[len(i)-3])\n",
        "\n",
        "if 2 in i :\n",
        "  print (\"2 is in i\")\n",
        "else:\n",
        "  print(\"2 is not in i\")\n",
        "#print(list[start:end:jump index])\n",
        "print (i[1:5])\n",
        "print (i[1:5:2])\n",
        "\n",
        "#list comprehension\n",
        "\n",
        "lst=[i*i for i in range(11)]\n",
        "print(lst)\n",
        "lst=[i*i for i in range(11) if i%2==0]\n",
        "print(lst)\n",
        "\n",
        "\n",
        "\n"
      ],
      "metadata": {
        "colab": {
          "base_uri": "https://localhost:8080/"
        },
        "id": "CGr4CDZKk82E",
        "outputId": "f4f255df-5bcc-47c1-a992-2c7db04387b2",
        "collapsed": true
      },
      "execution_count": 29,
      "outputs": [
        {
          "output_type": "stream",
          "name": "stdout",
          "text": [
            "[1, 2, 3, 'harry', 'Ashu', True]\n",
            "<class 'list'>\n",
            "1\n",
            "2\n",
            "3\n",
            "harry\n",
            "Ashu\n",
            "True\n",
            "negative indexing\n",
            "afbf\n",
            "esdf\n",
            "asd\n",
            "True\n",
            "Ashu\n",
            "harry\n",
            "asd\n",
            "2 is in i\n",
            "[2, 3, 'harry', 'Ashu']\n",
            "[2, 'harry']\n",
            "[1, 2, 3, 'harry', 'Ashu', True]\n",
            "<class 'list'>\n",
            "1\n",
            "2\n",
            "3\n",
            "harry\n",
            "Ashu\n",
            "True\n",
            "negative indexing\n",
            "afbf\n",
            "esdf\n",
            "asd\n",
            "True\n",
            "Ashu\n",
            "harry\n",
            "asd\n",
            "2 is in i\n",
            "[2, 3, 'harry', 'Ashu']\n",
            "[2, 'harry']\n",
            "[0, 1, 4, 9, 16, 25, 36, 49, 64, 81, 100]\n",
            "[0, 4, 16, 36, 64, 100]\n"
          ]
        }
      ]
    },
    {
      "cell_type": "code",
      "source": [
        "i= [1,2,3, \"harry\",\"Ashu\",True ]\n",
        "print (i)\n",
        "print (type(i))\n",
        "print (i[0])\n",
        "print (i[1])\n",
        "print (i[2])\n",
        "print (i[3])\n",
        "print (i[4])\n",
        "print (i[5])\n",
        "\n",
        "print(\"negative indexing\")\n",
        "i= [1, 2, 3 , \"harry\",\"Ashu\",True,\"asd\",\"esdf\", \"afbf\" ]\n",
        "\n",
        "print (i[-1])\n",
        "print (i[-2])\n",
        "print (i[-3])\n",
        "print (i[-4])\n",
        "print (i[-5])\n",
        "print (i[-6])\n",
        "print (i[len(i)-3])\n",
        "\n",
        "if 2 in i :\n",
        "  print (\"2 is in i\")\n",
        "else:\n",
        "  print(\"2 is not in i\")\n",
        "#print(list[start:end:jump index])\n",
        "print (i[1:5])\n",
        "print (i[1:5:2])\n",
        "\n",
        "i= [1,2,3, \"harry\",\"Ashu\",True ]\n",
        "print (i)\n",
        "print (type(i))\n",
        "print (i[0])\n",
        "print (i[1])\n",
        "print (i[2])\n",
        "print (i[3])\n",
        "print (i[4])\n",
        "print (i[5])\n",
        "\n",
        "print(\"negative indexing\")\n",
        "i= [1, 2, 3 , \"harry\",\"Ashu\",True,\"asd\",\"esdf\", \"afbf\" ]\n",
        "\n",
        "print (i[-1])\n",
        "print (i[-2])\n",
        "print (i[-3])\n",
        "print (i[-4])\n",
        "print (i[-5])\n",
        "print (i[-6])\n",
        "print (i[len(i)-3])\n",
        "\n",
        "if 2 in i :\n",
        "  print (\"2 is in i\")\n",
        "else:\n",
        "  print(\"2 is not in i\")\n",
        "#print(list[start:end:jump index])\n",
        "print (i[1:5])\n",
        "print (i[1:5:2])\n",
        "\n",
        "#list comprehension\n",
        "\n",
        "lst=[i*i for i in range(11)]\n",
        "print(lst)\n",
        "lst=[i*i for i in range(11) if i%2==0]\n",
        "print(lst)\n",
        "\n",
        "\n",
        "\n"
      ],
      "metadata": {
        "colab": {
          "base_uri": "https://localhost:8080/"
        },
        "outputId": "719dea89-e022-43d6-8402-9ebbe98eec28",
        "id": "viSmhkYUVwK0",
        "collapsed": true
      },
      "execution_count": 30,
      "outputs": [
        {
          "output_type": "stream",
          "name": "stdout",
          "text": [
            "[1, 2, 3, 'harry', 'Ashu', True]\n",
            "<class 'list'>\n",
            "1\n",
            "2\n",
            "3\n",
            "harry\n",
            "Ashu\n",
            "True\n",
            "negative indexing\n",
            "afbf\n",
            "esdf\n",
            "asd\n",
            "True\n",
            "Ashu\n",
            "harry\n",
            "asd\n",
            "2 is in i\n",
            "[2, 3, 'harry', 'Ashu']\n",
            "[2, 'harry']\n",
            "[1, 2, 3, 'harry', 'Ashu', True]\n",
            "<class 'list'>\n",
            "1\n",
            "2\n",
            "3\n",
            "harry\n",
            "Ashu\n",
            "True\n",
            "negative indexing\n",
            "afbf\n",
            "esdf\n",
            "asd\n",
            "True\n",
            "Ashu\n",
            "harry\n",
            "asd\n",
            "2 is in i\n",
            "[2, 3, 'harry', 'Ashu']\n",
            "[2, 'harry']\n",
            "[0, 1, 4, 9, 16, 25, 36, 49, 64, 81, 100]\n",
            "[0, 4, 16, 36, 64, 100]\n"
          ]
        }
      ]
    },
    {
      "cell_type": "markdown",
      "source": [
        "**LIST** **METHOD**"
      ],
      "metadata": {
        "id": "aaXOb8DzNtyr"
      }
    },
    {
      "cell_type": "code",
      "source": [
        "#to add element at the end of list\n",
        "lis= [1, 8, 2, 9, 5, 6,]\n",
        "lis.append(7)\n",
        "print(lis)\n",
        "\n",
        "#to arrange list in assending order\n",
        "lis.sort()\n",
        "print(lis)\n",
        "lis.sort(reverse=True)\n",
        "print(lis)\n",
        "lis.sort(reverse=False)\n",
        "print(lis)\n",
        "\n",
        "#to  reverse our list order\n",
        "lis.reverse()\n",
        "print(lis)\n",
        "\n",
        "#to  INDEX our list order\n",
        "print(lis.index(1))\n",
        "\n",
        "#to  COUNT the no. of element in our list\n",
        "lis.count(2)\n",
        "\n",
        "#to EXTEND our list\n",
        "m = [234, 333, 999]\n",
        "lis.extend(m)\n",
        "print(lis)\n",
        "\n",
        "#we can do it without disturbing lis also\n",
        "k=lis+m\n",
        "print(k)\n",
        "print(lis)\n",
        "print(m)"
      ],
      "metadata": {
        "colab": {
          "base_uri": "https://localhost:8080/"
        },
        "id": "TQCDQOMJNtXe",
        "outputId": "214765cb-b6ab-46fc-998a-26e2ea93d7c4",
        "collapsed": true
      },
      "execution_count": 31,
      "outputs": [
        {
          "output_type": "stream",
          "name": "stdout",
          "text": [
            "[1, 8, 2, 9, 5, 6, 7]\n",
            "[1, 2, 5, 6, 7, 8, 9]\n",
            "[9, 8, 7, 6, 5, 2, 1]\n",
            "[1, 2, 5, 6, 7, 8, 9]\n",
            "[9, 8, 7, 6, 5, 2, 1]\n",
            "6\n",
            "[9, 8, 7, 6, 5, 2, 1, 234, 333, 999]\n",
            "[9, 8, 7, 6, 5, 2, 1, 234, 333, 999, 234, 333, 999]\n",
            "[9, 8, 7, 6, 5, 2, 1, 234, 333, 999]\n",
            "[234, 333, 999]\n"
          ]
        }
      ]
    },
    {
      "cell_type": "code",
      "source": [],
      "metadata": {
        "id": "yu6IhqzYtihv"
      },
      "execution_count": null,
      "outputs": []
    }
  ]
}