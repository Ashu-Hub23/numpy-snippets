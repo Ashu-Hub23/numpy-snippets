{
 "cells": [
  {
   "cell_type": "markdown",
   "id": "84327e43-70b5-469d-b852-c8cbbd887279",
   "metadata": {},
   "source": [
    "# hello me\n",
    "\n"
   ]
  },
  {
   "cell_type": "markdown",
   "id": "bd1ceb61-f776-4045-a604-0333b5bb886a",
   "metadata": {},
   "source": [
    "_i am starting numpy for opencv_"
   ]
  },
  {
   "cell_type": "markdown",
   "id": "b9a8d21b-8a92-4516-968c-00480476952b",
   "metadata": {},
   "source": [
    "* soo lets go *"
   ]
  },
  {
   "cell_type": "code",
   "execution_count": 2,
   "id": "2cf5a97d-8fcb-4a15-93bd-b25df011fe0d",
   "metadata": {},
   "outputs": [],
   "source": [
    "import numpy as np"
   ]
  },
  {
   "cell_type": "code",
   "execution_count": 3,
   "id": "b6bcb3a5-9369-4eb4-9e41-da6c23893104",
   "metadata": {},
   "outputs": [],
   "source": [
    "firstarry = np.array([1,24,35,46,38,96])"
   ]
  },
  {
   "cell_type": "markdown",
   "id": "e6f34f4f-60de-4289-aeac-b88df23b5991",
   "metadata": {},
   "source": [
    "now the above array is 1 D array cause single bracket[]"
   ]
  },
  {
   "cell_type": "code",
   "execution_count": 4,
   "id": "18c868fa-5b56-4b1d-b8b6-756d90699131",
   "metadata": {},
   "outputs": [
    {
     "data": {
      "text/plain": [
       "array([ 1, 24, 35, 46, 38, 96])"
      ]
     },
     "execution_count": 4,
     "metadata": {},
     "output_type": "execute_result"
    }
   ],
   "source": [
    "firstarry"
   ]
  },
  {
   "cell_type": "code",
   "execution_count": 5,
   "id": "d5af496d-49a4-448f-a3e5-17ba77556903",
   "metadata": {},
   "outputs": [
    {
     "data": {
      "text/plain": [
       "np.int64(35)"
      ]
     },
     "execution_count": 5,
     "metadata": {},
     "output_type": "execute_result"
    }
   ],
   "source": [
    "firstarry[2]"
   ]
  },
  {
   "cell_type": "code",
   "execution_count": 6,
   "id": "d2a84a17-e701-4b00-a83b-6793bb4531c8",
   "metadata": {},
   "outputs": [
    {
     "data": {
      "text/plain": [
       "(6,)"
      ]
     },
     "execution_count": 6,
     "metadata": {},
     "output_type": "execute_result"
    }
   ],
   "source": [
    "firstarry.shape"
   ]
  },
  {
   "cell_type": "code",
   "execution_count": 7,
   "id": "d86c1168-3725-4d36-801b-2a7d52e4c735",
   "metadata": {},
   "outputs": [],
   "source": [
    "secondarry= np.array([[1,23,63,73,235,634,46]])"
   ]
  },
  {
   "cell_type": "markdown",
   "id": "1702e06c-072d-4f25-8775-8133e3ef099c",
   "metadata": {},
   "source": [
    "this is a 2D array as this array have 2 brackets"
   ]
  },
  {
   "cell_type": "code",
   "execution_count": 8,
   "id": "7a970883-b986-49a7-8f4a-35c46cf136dc",
   "metadata": {},
   "outputs": [
    {
     "data": {
      "text/plain": [
       "np.int64(235)"
      ]
     },
     "execution_count": 8,
     "metadata": {},
     "output_type": "execute_result"
    }
   ],
   "source": [
    "secondarry[0,4]"
   ]
  },
  {
   "cell_type": "code",
   "execution_count": 9,
   "id": "64ed3c54-48c4-4c1d-bef7-0e570e529d48",
   "metadata": {},
   "outputs": [
    {
     "data": {
      "text/plain": [
       "(1, 7)"
      ]
     },
     "execution_count": 9,
     "metadata": {},
     "output_type": "execute_result"
    }
   ],
   "source": [
    "secondarry.shape"
   ]
  },
  {
   "cell_type": "markdown",
   "id": "5bf81a7a-79e3-4a71-8d54-1b60a2e9ff07",
   "metadata": {},
   "source": [
    "We can also chose the data type for our interger in array otherwise int64 is by default"
   ]
  },
  {
   "cell_type": "code",
   "execution_count": 10,
   "id": "ec53d76b-3b43-4857-bc89-b1cceb5fa371",
   "metadata": {},
   "outputs": [],
   "source": [
    "firstarry = np.array([1,24,35,46,38,96],np.int8)"
   ]
  },
  {
   "cell_type": "code",
   "execution_count": 11,
   "id": "76bdede5-fcfe-431b-bbff-1db2925e3f51",
   "metadata": {},
   "outputs": [],
   "source": [
    "secondarry= np.array([[1,23,63,73,235,634,46]],np.int32)"
   ]
  },
  {
   "cell_type": "code",
   "execution_count": 12,
   "id": "908dddbc-6dac-49bf-baa3-f2694205e729",
   "metadata": {},
   "outputs": [
    {
     "data": {
      "text/plain": [
       "array([ 1, 24, 35, 46, 38, 96], dtype=int8)"
      ]
     },
     "execution_count": 12,
     "metadata": {},
     "output_type": "execute_result"
    }
   ],
   "source": [
    "firstarry\n"
   ]
  },
  {
   "cell_type": "code",
   "execution_count": 13,
   "id": "0557840e-972c-47a8-8dec-576df24d0336",
   "metadata": {},
   "outputs": [
    {
     "data": {
      "text/plain": [
       "array([[  1,  23,  63,  73, 235, 634,  46]], dtype=int32)"
      ]
     },
     "execution_count": 13,
     "metadata": {},
     "output_type": "execute_result"
    }
   ],
   "source": [
    "secondarry"
   ]
  },
  {
   "cell_type": "markdown",
   "id": "9b575466-8c0e-49c5-9a3d-d5e8653a4c9b",
   "metadata": {},
   "source": [
    "We can aslo change the integer "
   ]
  },
  {
   "cell_type": "code",
   "execution_count": 14,
   "id": "98acf28b-b9a6-45cb-9c3c-5ab57ef85aeb",
   "metadata": {},
   "outputs": [
    {
     "data": {
      "text/plain": [
       "np.int32(63)"
      ]
     },
     "execution_count": 14,
     "metadata": {},
     "output_type": "execute_result"
    }
   ],
   "source": [
    "secondarry[0,2]"
   ]
  },
  {
   "cell_type": "code",
   "execution_count": 15,
   "id": "570804c8-872a-4a1b-8b4b-1c6b5ebb1fcd",
   "metadata": {},
   "outputs": [],
   "source": [
    "secondarry[0,2]=75"
   ]
  },
  {
   "cell_type": "code",
   "execution_count": 16,
   "id": "010859a5-2bec-4d6e-8f6f-35eef632af3b",
   "metadata": {},
   "outputs": [
    {
     "data": {
      "text/plain": [
       "array([[  1,  23,  75,  73, 235, 634,  46]], dtype=int32)"
      ]
     },
     "execution_count": 16,
     "metadata": {},
     "output_type": "execute_result"
    }
   ],
   "source": [
    "secondarry"
   ]
  },
  {
   "cell_type": "markdown",
   "id": "7a596208-86cb-49bd-b4a6-23699eb28d66",
   "metadata": {},
   "source": [
    "# Changed"
   ]
  },
  {
   "cell_type": "markdown",
   "id": "1a6c89ec-71e2-4d2d-943a-b2965ecf28ba",
   "metadata": {},
   "source": [
    "# Array creation: Conversion from other Python structures"
   ]
  },
  {
   "cell_type": "code",
   "execution_count": 17,
   "id": "b71095bf-ec22-433f-83b7-133af3843cfc",
   "metadata": {},
   "outputs": [],
   "source": [
    "listarray=np.array([[1,2,3],[12,34,54],[75,45,34]])"
   ]
  },
  {
   "cell_type": "code",
   "execution_count": 18,
   "id": "c39626ce-d81c-4816-b175-bd5e37c8df19",
   "metadata": {},
   "outputs": [
    {
     "data": {
      "text/plain": [
       "array([[ 1,  2,  3],\n",
       "       [12, 34, 54],\n",
       "       [75, 45, 34]])"
      ]
     },
     "execution_count": 18,
     "metadata": {},
     "output_type": "execute_result"
    }
   ],
   "source": [
    "listarray\n",
    "\n"
   ]
  },
  {
   "cell_type": "code",
   "execution_count": 19,
   "id": "838e9ad1-914a-41b8-89b2-64cbb0f6c0e9",
   "metadata": {},
   "outputs": [
    {
     "data": {
      "text/plain": [
       "np.int64(54)"
      ]
     },
     "execution_count": 19,
     "metadata": {},
     "output_type": "execute_result"
    }
   ],
   "source": [
    "listarray[1,2]"
   ]
  },
  {
   "cell_type": "code",
   "execution_count": 20,
   "id": "c010e556-01bd-4d93-8032-f81824d4ab07",
   "metadata": {},
   "outputs": [],
   "source": [
    "listarray[1,2]=90"
   ]
  },
  {
   "cell_type": "code",
   "execution_count": 21,
   "id": "34068556-2de6-4952-a434-04699a6c1bf3",
   "metadata": {},
   "outputs": [
    {
     "data": {
      "text/plain": [
       "array([[ 1,  2,  3],\n",
       "       [12, 34, 90],\n",
       "       [75, 45, 34]])"
      ]
     },
     "execution_count": 21,
     "metadata": {},
     "output_type": "execute_result"
    }
   ],
   "source": [
    "listarray"
   ]
  },
  {
   "cell_type": "code",
   "execution_count": 22,
   "id": "3f155ac3-d4fd-41e0-b5fc-2880fcfa3da3",
   "metadata": {},
   "outputs": [
    {
     "data": {
      "text/plain": [
       "9"
      ]
     },
     "execution_count": 22,
     "metadata": {},
     "output_type": "execute_result"
    }
   ],
   "source": [
    "listarray.size"
   ]
  },
  {
   "cell_type": "code",
   "execution_count": 23,
   "id": "55295a07-41ef-4902-b9b1-edba9efff35a",
   "metadata": {},
   "outputs": [
    {
     "data": {
      "text/plain": [
       "(3, 3)"
      ]
     },
     "execution_count": 23,
     "metadata": {},
     "output_type": "execute_result"
    }
   ],
   "source": [
    "listarray.shape"
   ]
  },
  {
   "cell_type": "code",
   "execution_count": 24,
   "id": "95c0d654-008b-42b5-ac5f-f935e67b8173",
   "metadata": {},
   "outputs": [
    {
     "data": {
      "text/plain": [
       "dtype('int64')"
      ]
     },
     "execution_count": 24,
     "metadata": {},
     "output_type": "execute_result"
    }
   ],
   "source": [
    "listarray.dtype"
   ]
  },
  {
   "cell_type": "code",
   "execution_count": 25,
   "id": "3d63d014-5170-4bde-b039-ffc3b1362cd7",
   "metadata": {},
   "outputs": [],
   "source": [
    "dict=np.array({1,32,34,64})"
   ]
  },
  {
   "cell_type": "code",
   "execution_count": 26,
   "id": "dada5983-f0d5-442d-a509-9ea8d9070cfc",
   "metadata": {},
   "outputs": [
    {
     "data": {
      "text/plain": [
       "array({32, 1, 34, 64}, dtype=object)"
      ]
     },
     "execution_count": 26,
     "metadata": {},
     "output_type": "execute_result"
    }
   ],
   "source": [
    "dict"
   ]
  },
  {
   "cell_type": "code",
   "execution_count": 28,
   "id": "41c45677-9a66-4195-b1ec-fabaaf527184",
   "metadata": {},
   "outputs": [],
   "source": [
    "zeros=np.zeros([2,5])"
   ]
  },
  {
   "cell_type": "code",
   "execution_count": 29,
   "id": "8fad608e-7e3b-4448-a704-114399ae4082",
   "metadata": {},
   "outputs": [
    {
     "data": {
      "text/plain": [
       "array([[0., 0., 0., 0., 0.],\n",
       "       [0., 0., 0., 0., 0.]])"
      ]
     },
     "execution_count": 29,
     "metadata": {},
     "output_type": "execute_result"
    }
   ],
   "source": [
    "zeros"
   ]
  },
  {
   "cell_type": "code",
   "execution_count": 30,
   "id": "a8d09bd1-df43-4509-886c-3ddd8cee86f1",
   "metadata": {},
   "outputs": [],
   "source": [
    "rng=np.arange(88)"
   ]
  },
  {
   "cell_type": "code",
   "execution_count": 31,
   "id": "a9e7222e-5e72-4da8-8013-3c3458841d4e",
   "metadata": {},
   "outputs": [
    {
     "data": {
      "text/plain": [
       "array([ 0,  1,  2,  3,  4,  5,  6,  7,  8,  9, 10, 11, 12, 13, 14, 15, 16,\n",
       "       17, 18, 19, 20, 21, 22, 23, 24, 25, 26, 27, 28, 29, 30, 31, 32, 33,\n",
       "       34, 35, 36, 37, 38, 39, 40, 41, 42, 43, 44, 45, 46, 47, 48, 49, 50,\n",
       "       51, 52, 53, 54, 55, 56, 57, 58, 59, 60, 61, 62, 63, 64, 65, 66, 67,\n",
       "       68, 69, 70, 71, 72, 73, 74, 75, 76, 77, 78, 79, 80, 81, 82, 83, 84,\n",
       "       85, 86, 87])"
      ]
     },
     "execution_count": 31,
     "metadata": {},
     "output_type": "execute_result"
    }
   ],
   "source": [
    "rng"
   ]
  },
  {
   "cell_type": "code",
   "execution_count": 32,
   "id": "27902179-e85a-458d-aad3-6322ed915f2f",
   "metadata": {},
   "outputs": [],
   "source": [
    "lsp=np.linspace(1,60,10)"
   ]
  },
  {
   "cell_type": "code",
   "execution_count": 33,
   "id": "b5c29da0-1e4b-4bef-96ca-9ae4b25cf0cc",
   "metadata": {},
   "outputs": [
    {
     "data": {
      "text/plain": [
       "array([ 1.        ,  7.55555556, 14.11111111, 20.66666667, 27.22222222,\n",
       "       33.77777778, 40.33333333, 46.88888889, 53.44444444, 60.        ])"
      ]
     },
     "execution_count": 33,
     "metadata": {},
     "output_type": "execute_result"
    }
   ],
   "source": [
    "lsp"
   ]
  },
  {
   "cell_type": "code",
   "execution_count": 34,
   "id": "35e6c8c8-7692-42ef-91f3-9ef8215e024a",
   "metadata": {},
   "outputs": [],
   "source": [
    "emp=np.empty([2,6])"
   ]
  },
  {
   "cell_type": "code",
   "execution_count": 35,
   "id": "bc22f6a9-7571-482f-a525-bc8d47c478bf",
   "metadata": {},
   "outputs": [
    {
     "data": {
      "text/plain": [
       "array([[1.07671537e-311, 2.47032823e-322, 0.00000000e+000,\n",
       "        0.00000000e+000, 1.21190256e-305, 5.64233733e-067],\n",
       "       [5.59011067e-091, 7.92560423e+165, 9.99643342e-048,\n",
       "        5.26437365e-037, 3.99910963e+252, 4.93432906e+257]])"
      ]
     },
     "execution_count": 35,
     "metadata": {},
     "output_type": "execute_result"
    }
   ],
   "source": [
    "emp"
   ]
  },
  {
   "cell_type": "code",
   "execution_count": 36,
   "id": "8536517a-aadd-4440-8bf7-dda7596919a1",
   "metadata": {},
   "outputs": [],
   "source": [
    "emp[1,1]=30"
   ]
  },
  {
   "cell_type": "code",
   "execution_count": 37,
   "id": "93f1f741-dbfe-476b-82b7-7730a8f4aa91",
   "metadata": {},
   "outputs": [
    {
     "data": {
      "text/plain": [
       "array([[1.07671537e-311, 2.47032823e-322, 0.00000000e+000,\n",
       "        0.00000000e+000, 1.21190256e-305, 5.64233733e-067],\n",
       "       [5.59011067e-091, 3.00000000e+001, 9.99643342e-048,\n",
       "        5.26437365e-037, 3.99910963e+252, 4.93432906e+257]])"
      ]
     },
     "execution_count": 37,
     "metadata": {},
     "output_type": "execute_result"
    }
   ],
   "source": [
    "emp"
   ]
  },
  {
   "cell_type": "code",
   "execution_count": 38,
   "id": "96360f3a-4dfc-4d2f-984b-14fe8d5a1534",
   "metadata": {},
   "outputs": [],
   "source": [
    "emp_lk=np.empty_like(rng)"
   ]
  },
  {
   "cell_type": "code",
   "execution_count": 39,
   "id": "d1e61218-5a23-4cf3-b836-6604785cd022",
   "metadata": {},
   "outputs": [
    {
     "data": {
      "text/plain": [
       "array([                  0,     140708236243136,                 664,\n",
       "                        -1,  527773634396160100, 8031151179464336711,\n",
       "       2902988274244535666, 8245935277853325887, 4551015458302619004,\n",
       "       6304039401398879546, 8946795858661110369, 7222154395322564392,\n",
       "       8386111997913016421, 8393629402972188521, 7234316402796163685,\n",
       "       7310020887052516393, 8234033095304508515, 8747480847880449906,\n",
       "       8245935277851950888, 7946993459895689852, 2987136102587065716,\n",
       "       5003628290300136572, 4550972620349076082, 8245929724275009594,\n",
       "       5649040559058156665, 2982630303883228271, 5655440803543282245,\n",
       "       7881644865807335208, 4700138604099239013, 8245937412991248708,\n",
       "       7882825952907590777, 4983559973837762149, 2904676802132669042,\n",
       "       8537790503220427327, 4983645783105892965, 2904958277109379698,\n",
       "       7236785694166039103, 7310028725417373289, 7014196369442496867,\n",
       "       7886502681155038834, 8234108918506419049, 7165071409766625138,\n",
       "       8460978848760296293, 8946807957735228784, 4197117792966617170,\n",
       "       5003058734754329955, 8243107377653445234, 8030606727934340709,\n",
       "       7305808869231656050, 2983474677259854167, 2910853033857283452,\n",
       "       8967352345382173247, 2983474677259854167, 8031108078442347561,\n",
       "       2898698752174794864, 2982348846153153087, 8386109761208789311,\n",
       "       4551020997635895145, 4197117875228798522, 7014211775590724165,\n",
       "       8321571735684607602, 8230960711169041780, 2987128419058347890,\n",
       "       2898698752615000361, 7308613753239583295, 2982913995284182383,\n",
       "       6159843961808777797, 7078039207246708520, 7017575018266522991,\n",
       "       7601076094081582444, 4916311385960640355, 8246730169447834469,\n",
       "       2898698752363360879, 8026380157351115327, 8246699218920891748,\n",
       "       7953764124098916975, 8246730169715354739, 7597135383825773167,\n",
       "       8243121670075279214, 2983474677259854167, 4197117608365414012,\n",
       "       2982919436555277133, 6303959149884633669, 7956011654263226152,\n",
       "       8320241313730100327, 6520131931998417477, 8316308381408129637,\n",
       "       8245935277855371113])"
      ]
     },
     "execution_count": 39,
     "metadata": {},
     "output_type": "execute_result"
    }
   ],
   "source": [
    "emp_lk"
   ]
  },
  {
   "cell_type": "code",
   "execution_count": 40,
   "id": "55821a8f-3658-4ca4-869e-bb5f10522390",
   "metadata": {},
   "outputs": [],
   "source": [
    "ide=np.identity(2)"
   ]
  },
  {
   "cell_type": "code",
   "execution_count": 41,
   "id": "907e22e3-88b4-42ff-bd97-d5b2b0de9267",
   "metadata": {},
   "outputs": [
    {
     "data": {
      "text/plain": [
       "array([[1., 0.],\n",
       "       [0., 1.]])"
      ]
     },
     "execution_count": 41,
     "metadata": {},
     "output_type": "execute_result"
    }
   ],
   "source": [
    "ide"
   ]
  },
  {
   "cell_type": "markdown",
   "id": "af4445d7-e220-47b5-9aef-a5a5381d5137",
   "metadata": {},
   "source": [
    "# Funtion Reshape()"
   ]
  },
  {
   "cell_type": "code",
   "execution_count": 43,
   "id": "0357782d-daec-4ea0-9599-5367321021ba",
   "metadata": {},
   "outputs": [
    {
     "data": {
      "text/plain": [
       "array([ 0,  1,  2,  3,  4,  5,  6,  7,  8,  9, 10, 11, 12, 13, 14, 15, 16,\n",
       "       17, 18, 19, 20, 21, 22, 23, 24, 25, 26, 27, 28, 29, 30, 31, 32, 33,\n",
       "       34, 35, 36, 37, 38, 39, 40, 41, 42, 43, 44, 45, 46, 47, 48, 49, 50,\n",
       "       51, 52, 53, 54, 55, 56, 57, 58, 59, 60, 61, 62, 63, 64, 65, 66, 67,\n",
       "       68, 69, 70, 71, 72, 73, 74, 75, 76, 77, 78, 79, 80, 81, 82, 83, 84,\n",
       "       85, 86, 87])"
      ]
     },
     "execution_count": 43,
     "metadata": {},
     "output_type": "execute_result"
    }
   ],
   "source": [
    "rng"
   ]
  },
  {
   "cell_type": "code",
   "execution_count": 44,
   "id": "73c7f6e7-432c-4136-ad16-09b365af6754",
   "metadata": {},
   "outputs": [
    {
     "data": {
      "text/plain": [
       "array([[ 0,  1,  2,  3,  4,  5,  6,  7,  8,  9, 10],\n",
       "       [11, 12, 13, 14, 15, 16, 17, 18, 19, 20, 21],\n",
       "       [22, 23, 24, 25, 26, 27, 28, 29, 30, 31, 32],\n",
       "       [33, 34, 35, 36, 37, 38, 39, 40, 41, 42, 43],\n",
       "       [44, 45, 46, 47, 48, 49, 50, 51, 52, 53, 54],\n",
       "       [55, 56, 57, 58, 59, 60, 61, 62, 63, 64, 65],\n",
       "       [66, 67, 68, 69, 70, 71, 72, 73, 74, 75, 76],\n",
       "       [77, 78, 79, 80, 81, 82, 83, 84, 85, 86, 87]])"
      ]
     },
     "execution_count": 44,
     "metadata": {},
     "output_type": "execute_result"
    }
   ],
   "source": [
    "rng.reshape(8,11)"
   ]
  },
  {
   "cell_type": "code",
   "execution_count": 45,
   "id": "d29ac29a-cc70-45b6-a6b5-6e967d354ace",
   "metadata": {},
   "outputs": [],
   "source": [
    "rng=rng.reshape(8,11)"
   ]
  },
  {
   "cell_type": "code",
   "execution_count": 47,
   "id": "a62e52fc-4946-430b-9639-3e0ca058f53b",
   "metadata": {},
   "outputs": [
    {
     "data": {
      "text/plain": [
       "(8, 11)"
      ]
     },
     "execution_count": 47,
     "metadata": {},
     "output_type": "execute_result"
    }
   ],
   "source": [
    "rng.shape"
   ]
  },
  {
   "cell_type": "code",
   "execution_count": 49,
   "id": "e8cf9eaf-5716-4ade-adc1-a98fce280c82",
   "metadata": {},
   "outputs": [],
   "source": [
    "rng=rng.ravel()"
   ]
  },
  {
   "cell_type": "code",
   "execution_count": 50,
   "id": "d02c63a6-e2b2-4363-b750-2b2b724d2ce8",
   "metadata": {},
   "outputs": [
    {
     "data": {
      "text/plain": [
       "array([ 0,  1,  2,  3,  4,  5,  6,  7,  8,  9, 10, 11, 12, 13, 14, 15, 16,\n",
       "       17, 18, 19, 20, 21, 22, 23, 24, 25, 26, 27, 28, 29, 30, 31, 32, 33,\n",
       "       34, 35, 36, 37, 38, 39, 40, 41, 42, 43, 44, 45, 46, 47, 48, 49, 50,\n",
       "       51, 52, 53, 54, 55, 56, 57, 58, 59, 60, 61, 62, 63, 64, 65, 66, 67,\n",
       "       68, 69, 70, 71, 72, 73, 74, 75, 76, 77, 78, 79, 80, 81, 82, 83, 84,\n",
       "       85, 86, 87])"
      ]
     },
     "execution_count": 50,
     "metadata": {},
     "output_type": "execute_result"
    }
   ],
   "source": [
    "rng"
   ]
  },
  {
   "cell_type": "code",
   "execution_count": 51,
   "id": "8c138630-21d5-4ab2-aae7-767dd02f4502",
   "metadata": {},
   "outputs": [
    {
     "data": {
      "text/plain": [
       "(88,)"
      ]
     },
     "execution_count": 51,
     "metadata": {},
     "output_type": "execute_result"
    }
   ],
   "source": [
    "rng.shape"
   ]
  },
  {
   "cell_type": "code",
   "execution_count": 52,
   "id": "26f603ab-9e87-4d6f-a4c0-e424c4df4e0a",
   "metadata": {},
   "outputs": [],
   "source": [
    "x=[[1,2,3],[4,5,6],[7,8,9]]"
   ]
  },
  {
   "cell_type": "code",
   "execution_count": 53,
   "id": "1cb37b45-da43-4df7-a8e7-9c572d6bd218",
   "metadata": {},
   "outputs": [],
   "source": [
    "arr=np.array(x)"
   ]
  },
  {
   "cell_type": "code",
   "execution_count": 54,
   "id": "81b6bab1-f58c-4239-b8cd-a2755e8bf5d7",
   "metadata": {},
   "outputs": [
    {
     "data": {
      "text/plain": [
       "array([[1, 2, 3],\n",
       "       [4, 5, 6],\n",
       "       [7, 8, 9]])"
      ]
     },
     "execution_count": 54,
     "metadata": {},
     "output_type": "execute_result"
    }
   ],
   "source": [
    "arr\n"
   ]
  },
  {
   "cell_type": "code",
   "execution_count": 56,
   "id": "383af5d6-1376-48c0-b691-5d5d55a8b4fd",
   "metadata": {},
   "outputs": [
    {
     "data": {
      "text/plain": [
       "array([12, 15, 18])"
      ]
     },
     "execution_count": 56,
     "metadata": {},
     "output_type": "execute_result"
    }
   ],
   "source": [
    "arr.sum(axis =0)"
   ]
  },
  {
   "cell_type": "code",
   "execution_count": 57,
   "id": "efdd2ca8-5378-45e4-b3fe-d7d7e27d6128",
   "metadata": {},
   "outputs": [
    {
     "data": {
      "text/plain": [
       "array([ 6, 15, 24])"
      ]
     },
     "execution_count": 57,
     "metadata": {},
     "output_type": "execute_result"
    }
   ],
   "source": [
    "arr.sum(axis =1)"
   ]
  },
  {
   "cell_type": "code",
   "execution_count": 58,
   "id": "5059dd4f-ccfc-44c2-8d6d-f3a287670db9",
   "metadata": {},
   "outputs": [
    {
     "data": {
      "text/plain": [
       "array([[1, 2, 3],\n",
       "       [4, 5, 6],\n",
       "       [7, 8, 9]])"
      ]
     },
     "execution_count": 58,
     "metadata": {},
     "output_type": "execute_result"
    }
   ],
   "source": [
    "arr"
   ]
  },
  {
   "cell_type": "code",
   "execution_count": 59,
   "id": "50a75232-1946-47e5-a20f-90fb9f2fbcbd",
   "metadata": {},
   "outputs": [
    {
     "data": {
      "text/plain": [
       "array([[1, 4, 7],\n",
       "       [2, 5, 8],\n",
       "       [3, 6, 9]])"
      ]
     },
     "execution_count": 59,
     "metadata": {},
     "output_type": "execute_result"
    }
   ],
   "source": [
    "arr.T"
   ]
  },
  {
   "cell_type": "code",
   "execution_count": 60,
   "id": "66bc41e5-e3fb-4009-a9a1-8b7cf71e8600",
   "metadata": {},
   "outputs": [
    {
     "data": {
      "text/plain": [
       "<numpy.flatiter at 0x1fb6875f3d0>"
      ]
     },
     "execution_count": 60,
     "metadata": {},
     "output_type": "execute_result"
    }
   ],
   "source": [
    "arr.flat"
   ]
  },
  {
   "cell_type": "code",
   "execution_count": 63,
   "id": "66d22f1b-1e5a-4bfd-8c56-997dd2c825f1",
   "metadata": {},
   "outputs": [
    {
     "name": "stdout",
     "output_type": "stream",
     "text": [
      "1\n",
      "2\n",
      "3\n",
      "4\n",
      "5\n",
      "6\n",
      "7\n",
      "8\n",
      "9\n"
     ]
    }
   ],
   "source": [
    "for i in arr.flat:\n",
    "    print (i)"
   ]
  },
  {
   "cell_type": "code",
   "execution_count": 64,
   "id": "074c5ede-0b83-4747-90c7-49c7a75b040f",
   "metadata": {},
   "outputs": [
    {
     "data": {
      "text/plain": [
       "2"
      ]
     },
     "execution_count": 64,
     "metadata": {},
     "output_type": "execute_result"
    }
   ],
   "source": [
    "arr.ndim"
   ]
  },
  {
   "cell_type": "code",
   "execution_count": 65,
   "id": "6fcca355-cfe0-4335-9cb0-a099947e282c",
   "metadata": {},
   "outputs": [
    {
     "data": {
      "text/plain": [
       "9"
      ]
     },
     "execution_count": 65,
     "metadata": {},
     "output_type": "execute_result"
    }
   ],
   "source": [
    "arr.size"
   ]
  },
  {
   "cell_type": "code",
   "execution_count": 66,
   "id": "a1e1af70-eb30-4dd0-894c-b718902cbd37",
   "metadata": {},
   "outputs": [
    {
     "data": {
      "text/plain": [
       "72"
      ]
     },
     "execution_count": 66,
     "metadata": {},
     "output_type": "execute_result"
    }
   ],
   "source": [
    "arr.nbytes"
   ]
  },
  {
   "cell_type": "code",
   "execution_count": 67,
   "id": "4bddcf31-cc17-44b8-b6a1-19091bfb3cd0",
   "metadata": {},
   "outputs": [],
   "source": [
    "one=np.array([1,2,43,25])"
   ]
  },
  {
   "cell_type": "code",
   "execution_count": 69,
   "id": "ed37d247-5499-4200-a822-d43261f0a62a",
   "metadata": {},
   "outputs": [
    {
     "data": {
      "text/plain": [
       "np.int64(0)"
      ]
     },
     "execution_count": 69,
     "metadata": {},
     "output_type": "execute_result"
    }
   ],
   "source": [
    "one.argmin()"
   ]
  },
  {
   "cell_type": "code",
   "execution_count": 70,
   "id": "de150553-c138-4c1e-b74d-5d13c1c2007d",
   "metadata": {},
   "outputs": [
    {
     "data": {
      "text/plain": [
       "np.int64(2)"
      ]
     },
     "execution_count": 70,
     "metadata": {},
     "output_type": "execute_result"
    }
   ],
   "source": [
    "one.argmax()"
   ]
  },
  {
   "cell_type": "code",
   "execution_count": 71,
   "id": "a440a529-d0cc-4d7e-88e9-459e95df2570",
   "metadata": {},
   "outputs": [
    {
     "data": {
      "text/plain": [
       "array([[1, 2, 3],\n",
       "       [4, 5, 6],\n",
       "       [7, 8, 9]])"
      ]
     },
     "execution_count": 71,
     "metadata": {},
     "output_type": "execute_result"
    }
   ],
   "source": [
    "arr"
   ]
  },
  {
   "cell_type": "code",
   "execution_count": 73,
   "id": "fc20148f-f4ef-45c9-8fad-b8cdd34ec84c",
   "metadata": {},
   "outputs": [
    {
     "data": {
      "text/plain": [
       "np.int64(0)"
      ]
     },
     "execution_count": 73,
     "metadata": {},
     "output_type": "execute_result"
    }
   ],
   "source": [
    "arr.argmin()"
   ]
  },
  {
   "cell_type": "code",
   "execution_count": 75,
   "id": "1ca306e6-2035-405d-8f6e-ea56ee3ebedc",
   "metadata": {},
   "outputs": [
    {
     "data": {
      "text/plain": [
       "np.int64(8)"
      ]
     },
     "execution_count": 75,
     "metadata": {},
     "output_type": "execute_result"
    }
   ],
   "source": [
    "arr.argmax()"
   ]
  },
  {
   "cell_type": "code",
   "execution_count": 76,
   "id": "f56f770a-3b50-4386-8068-e4f44ab17161",
   "metadata": {},
   "outputs": [
    {
     "data": {
      "text/plain": [
       "array([2, 2, 2])"
      ]
     },
     "execution_count": 76,
     "metadata": {},
     "output_type": "execute_result"
    }
   ],
   "source": [
    "arr.argmax(axis=0)"
   ]
  },
  {
   "cell_type": "code",
   "execution_count": 77,
   "id": "a60cddfa-a9f9-49f2-98f4-bffea4ffee7f",
   "metadata": {},
   "outputs": [
    {
     "data": {
      "text/plain": [
       "array([2, 2, 2])"
      ]
     },
     "execution_count": 77,
     "metadata": {},
     "output_type": "execute_result"
    }
   ],
   "source": [
    "arr.argmax(axis=1)"
   ]
  },
  {
   "cell_type": "code",
   "execution_count": 78,
   "id": "7a635ba3-cf88-4093-a173-ae14bfede7c3",
   "metadata": {},
   "outputs": [],
   "source": [
    "arr2=np.array([[12,43,23],\n",
    "               [34,64,23],\n",
    "               [23,90,10]]\n",
    "               )"
   ]
  },
  {
   "cell_type": "code",
   "execution_count": 79,
   "id": "93a5742f-20f2-448e-bb68-1deb3cc8d0e4",
   "metadata": {},
   "outputs": [
    {
     "data": {
      "text/plain": [
       "array([[1, 2, 3],\n",
       "       [4, 5, 6],\n",
       "       [7, 8, 9]])"
      ]
     },
     "execution_count": 79,
     "metadata": {},
     "output_type": "execute_result"
    }
   ],
   "source": [
    "arr"
   ]
  },
  {
   "cell_type": "code",
   "execution_count": 80,
   "id": "dbf766ea-fe6e-4626-9409-7c4da481ca65",
   "metadata": {},
   "outputs": [
    {
     "data": {
      "text/plain": [
       "array([[12, 43, 23],\n",
       "       [34, 64, 23],\n",
       "       [23, 90, 10]])"
      ]
     },
     "execution_count": 80,
     "metadata": {},
     "output_type": "execute_result"
    }
   ],
   "source": [
    "arr2\n"
   ]
  },
  {
   "cell_type": "code",
   "execution_count": 81,
   "id": "e88f694e-7f16-43fd-aa6e-24fa28763bdc",
   "metadata": {},
   "outputs": [
    {
     "data": {
      "text/plain": [
       "array([[13, 45, 26],\n",
       "       [38, 69, 29],\n",
       "       [30, 98, 19]])"
      ]
     },
     "execution_count": 81,
     "metadata": {},
     "output_type": "execute_result"
    }
   ],
   "source": [
    "arr+arr2"
   ]
  },
  {
   "cell_type": "code",
   "execution_count": 82,
   "id": "e54b8114-2a5e-4b29-85e7-7f34c6728cd1",
   "metadata": {},
   "outputs": [
    {
     "data": {
      "text/plain": [
       "array([[ 12,  86,  69],\n",
       "       [136, 320, 138],\n",
       "       [161, 720,  90]])"
      ]
     },
     "execution_count": 82,
     "metadata": {},
     "output_type": "execute_result"
    }
   ],
   "source": [
    "arr*arr2"
   ]
  },
  {
   "cell_type": "code",
   "execution_count": 83,
   "id": "945e6eca-cdfb-4ce0-be01-ca039e8a2b70",
   "metadata": {},
   "outputs": [],
   "source": [
    "import sys"
   ]
  },
  {
   "cell_type": "code",
   "execution_count": 84,
   "id": "6c950379-7e41-4698-907b-2b21a224d839",
   "metadata": {},
   "outputs": [],
   "source": [
    "py_ar=[1,2,3,4,5]"
   ]
  },
  {
   "cell_type": "code",
   "execution_count": 85,
   "id": "19baf788-b53e-4340-996d-72095cae4aac",
   "metadata": {},
   "outputs": [],
   "source": [
    "nyarr=np.array(py_ar)"
   ]
  },
  {
   "cell_type": "code",
   "execution_count": 86,
   "id": "4a96fea3-40a6-4a31-b671-435b3598eff3",
   "metadata": {},
   "outputs": [
    {
     "data": {
      "text/plain": [
       "array([1, 2, 3, 4, 5])"
      ]
     },
     "execution_count": 86,
     "metadata": {},
     "output_type": "execute_result"
    }
   ],
   "source": [
    "nyarr"
   ]
  },
  {
   "cell_type": "code",
   "execution_count": 87,
   "id": "16dd79f6-2a30-4648-926a-a1fdc244cc13",
   "metadata": {},
   "outputs": [
    {
     "data": {
      "text/plain": [
       "140"
      ]
     },
     "execution_count": 87,
     "metadata": {},
     "output_type": "execute_result"
    }
   ],
   "source": [
    "sys.getsizeof(1)*len(py_ar)"
   ]
  },
  {
   "cell_type": "code",
   "execution_count": 88,
   "id": "7643eb7c-0fa7-4e9a-9eef-216549deb247",
   "metadata": {},
   "outputs": [
    {
     "data": {
      "text/plain": [
       "40"
      ]
     },
     "execution_count": 88,
     "metadata": {},
     "output_type": "execute_result"
    }
   ],
   "source": [
    "nyarr.itemsize*nyarr.size"
   ]
  },
  {
   "cell_type": "code",
   "execution_count": null,
   "id": "0d553993-aed4-466f-a7a7-5540cc18f0e6",
   "metadata": {},
   "outputs": [],
   "source": []
  }
 ],
 "metadata": {
  "kernelspec": {
   "display_name": "Python 3 (ipykernel)",
   "language": "python",
   "name": "python3"
  },
  "language_info": {
   "codemirror_mode": {
    "name": "ipython",
    "version": 3
   },
   "file_extension": ".py",
   "mimetype": "text/x-python",
   "name": "python",
   "nbconvert_exporter": "python",
   "pygments_lexer": "ipython3",
   "version": "3.13.1"
  }
 },
 "nbformat": 4,
 "nbformat_minor": 5
}
